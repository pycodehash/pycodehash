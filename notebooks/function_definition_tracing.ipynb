{
 "cells": [
  {
   "cell_type": "markdown",
   "id": "f61dd3cb",
   "metadata": {},
   "source": [
    "# Function definition tracing\n",
    "\n",
    "This notebook is a MVP of function definition tracing."
   ]
  },
  {
   "cell_type": "markdown",
   "id": "54f88ced",
   "metadata": {},
   "source": [
    "## Requirements\n",
    "\n",
    "```shell\n",
    "pip install rope, asttokens\n",
    "pip install tests/resources/tliba\n",
    "```"
   ]
  },
  {
   "cell_type": "code",
   "execution_count": null,
   "id": "de9da76a",
   "metadata": {},
   "outputs": [],
   "source": [
    "import ast\n",
    "from ast import NodeVisitor\n",
    "import inspect\n",
    "import importlib\n",
    "from pathlib import Path\n",
    "\n",
    "import asttokens\n",
    "from rope.base.project import Project\n",
    "from rope.base.libutils import path_to_resource, analyze_modules\n",
    "from rope.contrib.findit import find_definition, Location"
   ]
  },
  {
   "cell_type": "code",
   "execution_count": null,
   "id": "3ee3af86",
   "metadata": {},
   "outputs": [],
   "source": [
    "from rope.contrib.findit import occurrences"
   ]
  },
  {
   "cell_type": "code",
   "execution_count": null,
   "id": "e0e48fb0",
   "metadata": {},
   "outputs": [],
   "source": [
    "class CallVisitor(NodeVisitor):\n",
    "    def __init__(self, project, resource, code, tree_tokens):\n",
    "        self.project = project\n",
    "        self.resource = resource\n",
    "        self.code = code\n",
    "        self.tree_tokens = tree_tokens\n",
    "        self.calls = []\n",
    "\n",
    "    def visit_Call(self, node: ast.Call):\n",
    "        loc = find_definition(\n",
    "            self.project,\n",
    "            self.code,\n",
    "            self.tree_tokens.get_text_range(node)[0]\n",
    "        )\n",
    "        if loc is not None:\n",
    "            if loc.resource is None:\n",
    "                loc.resource = self.resource\n",
    "            self.calls.append((node, loc))\n",
    "        super().generic_visit(node)\n"
   ]
  },
  {
   "cell_type": "code",
   "execution_count": null,
   "id": "2b62f596",
   "metadata": {},
   "outputs": [],
   "source": [
    "class ModuleStore:\n",
    "    pkg: str\n",
    "    name: str\n",
    "    path: str\n",
    "    code: str\n",
    "    tree: ast.Module\n",
    "    tree_tokens: asttokens.ASTTokens\n",
    "    "
   ]
  },
  {
   "cell_type": "code",
   "execution_count": null,
   "id": "4f51c22a",
   "metadata": {},
   "outputs": [],
   "source": [
    "def get_project(pkg: str, projects: dict[str, Project]) -> Project:\n",
    "    if pkg in projects:\n",
    "        return projects[pkg]\n",
    "    # Once for each package that we want to cover\n",
    "    projects[pkg] = Project(importlib.util.find_spec(pkg).submodule_search_locations[0])\n",
    "    proj = projects[pkg]\n",
    "    analyze_modules(proj)\n",
    "    return proj"
   ]
  },
  {
   "cell_type": "code",
   "execution_count": null,
   "id": "5e436f00",
   "metadata": {},
   "outputs": [],
   "source": [
    "def get_call_definitions(func, modules, projects):\n",
    "    mod = inspect.getmodule(func)\n",
    "    if mod.__name__ not in modules:\n",
    "        pkg, _sep, _stem = mod.__name__.partition('.')\n",
    "        ms = ModuleStore()\n",
    "        ms.name = mod.__name__\n",
    "        ms.pkg = pkg\n",
    "        ms.path = Path(inspect.getsourcefile(mod))\n",
    "        ms.code = ms.path.read_text()\n",
    "        ms.tree = ast.parse(ms.code)\n",
    "        ms.tree_tokens = asttokens.ASTTokens(ms.code, parse=False, tree=ms.tree)\n",
    "        modules[ms.name] = ms\n",
    "    else:\n",
    "        ms = modules[mod.__name__]\n",
    "\n",
    "    proj = get_project(ms.pkg, projects)    \n",
    "    resource = path_to_resource(proj, ms.path)\n",
    "\n",
    "    visitor = CallVisitor(proj, resource, ms.code, ms.tree_tokens)\n",
    "    visitor.visit(ms.tree)\n",
    "    return visitor.calls"
   ]
  },
  {
   "cell_type": "code",
   "execution_count": null,
   "id": "6028f943",
   "metadata": {},
   "outputs": [],
   "source": [
    "projects = {}\n",
    "modules = {}"
   ]
  },
  {
   "cell_type": "code",
   "execution_count": null,
   "id": "76b93f06",
   "metadata": {},
   "outputs": [],
   "source": [
    "from tliba import compute_moments"
   ]
  },
  {
   "cell_type": "code",
   "execution_count": null,
   "id": "088928d9",
   "metadata": {},
   "outputs": [],
   "source": [
    "calls = get_call_definitions(compute_moments, modules, projects)"
   ]
  },
  {
   "cell_type": "code",
   "execution_count": null,
   "id": "60b2bef6",
   "metadata": {},
   "outputs": [],
   "source": [
    "node, location = calls[0]"
   ]
  },
  {
   "cell_type": "code",
   "execution_count": null,
   "id": "0f5686d4",
   "metadata": {},
   "outputs": [],
   "source": [
    "from ast import NodeTransformer"
   ]
  },
  {
   "cell_type": "code",
   "execution_count": null,
   "id": "bb6a8053",
   "metadata": {},
   "outputs": [],
   "source": [
    "import hashlib"
   ]
  },
  {
   "cell_type": "code",
   "execution_count": null,
   "id": "6a1e5e6a",
   "metadata": {},
   "outputs": [],
   "source": [
    "class ReplaceCall(NodeTransformer):\n",
    "    def visit_Call(self, node: ast.Call):\n",
    "        self.hash_repr = hashlib.sha256(ast.unparse(node).encode()).hexdigest()\n",
    "        super().generic_visit(node)\n",
    "        return node\n",
    "\n",
    "    def visit_Name(self, node: ast.Name):\n",
    "        if self.hash_repr is not None:\n",
    "            node.id = self.hash_repr\n",
    "            self.hash_repr = None\n",
    "        return node\n"
   ]
  },
  {
   "cell_type": "code",
   "execution_count": null,
   "id": "a4de7d2f",
   "metadata": {},
   "outputs": [],
   "source": [
    "ast.unparse(node)"
   ]
  },
  {
   "cell_type": "code",
   "execution_count": null,
   "id": "2b32f29b",
   "metadata": {},
   "outputs": [],
   "source": [
    "ast.unparse(ReplaceCall().visit(node))"
   ]
  },
  {
   "cell_type": "code",
   "execution_count": null,
   "id": "e3b996a6",
   "metadata": {},
   "outputs": [],
   "source": [
    "ast.dump(node)"
   ]
  },
  {
   "cell_type": "code",
   "execution_count": null,
   "id": "8351c9c6",
   "metadata": {},
   "outputs": [],
   "source": [
    "node.func.value.func.id"
   ]
  },
  {
   "cell_type": "code",
   "execution_count": null,
   "id": "8b1540cc",
   "metadata": {},
   "outputs": [],
   "source": [
    "ast.dump(node)"
   ]
  },
  {
   "cell_type": "code",
   "execution_count": null,
   "id": "1cd58365",
   "metadata": {},
   "outputs": [],
   "source": [
    "node.first_token"
   ]
  },
  {
   "cell_type": "code",
   "execution_count": null,
   "id": "3aff5d99",
   "metadata": {},
   "outputs": [],
   "source": [
    "location"
   ]
  },
  {
   "cell_type": "code",
   "execution_count": null,
   "id": "63cb2d26",
   "metadata": {},
   "outputs": [],
   "source": [
    "location.region[0]"
   ]
  },
  {
   "cell_type": "code",
   "execution_count": null,
   "id": "286d54b0",
   "metadata": {},
   "outputs": [],
   "source": [
    "from rope.refactor import occurrences"
   ]
  },
  {
   "cell_type": "code",
   "execution_count": null,
   "id": "3de16f03",
   "metadata": {},
   "outputs": [],
   "source": [
    "from types import FunctionType"
   ]
  },
  {
   "cell_type": "code",
   "execution_count": null,
   "id": "eaf03b35",
   "metadata": {},
   "outputs": [],
   "source": [
    "import rope"
   ]
  },
  {
   "cell_type": "code",
   "execution_count": null,
   "id": "bfc41e44",
   "metadata": {},
   "outputs": [],
   "source": [
    "def get_func_def_location(func: FunctionType, project_store):\n",
    "    func_name = func.__name__\n",
    "    module_name = func.__module__\n",
    "    for project in project_store.get_projects():\n",
    "        module = project.get_module(module_name)\n",
    "        if isinstance(module, rope.base.pyobjectsdef.PyModule):\n",
    "            break\n",
    "\n",
    "    finder = occurrences.Finder(project, func_name)\n",
    "    for occurrence in finder.find_occurrences(pymodule=module):\n",
    "        return Location(occurrence)"
   ]
  },
  {
   "cell_type": "code",
   "execution_count": null,
   "id": "c398f7bf",
   "metadata": {},
   "outputs": [],
   "source": [
    "from pycodehash.tracing.stores import ProjectStore"
   ]
  },
  {
   "cell_type": "code",
   "execution_count": null,
   "id": "e3c16850",
   "metadata": {},
   "outputs": [],
   "source": [
    "project_store = ProjectStore()"
   ]
  },
  {
   "cell_type": "code",
   "execution_count": null,
   "id": "8e0f7e9f",
   "metadata": {},
   "outputs": [],
   "source": [
    "project_store.set(\"tliba\")"
   ]
  },
  {
   "cell_type": "code",
   "execution_count": null,
   "id": "e18e2e76",
   "metadata": {},
   "outputs": [],
   "source": [
    "get_func_def_location(compute_moments, project_store)"
   ]
  },
  {
   "cell_type": "code",
   "execution_count": null,
   "id": "4b291a31",
   "metadata": {},
   "outputs": [],
   "source": []
  },
  {
   "cell_type": "code",
   "execution_count": null,
   "id": "413ee3c0",
   "metadata": {},
   "outputs": [],
   "source": []
  },
  {
   "cell_type": "code",
   "execution_count": null,
   "id": "a29780dc",
   "metadata": {},
   "outputs": [],
   "source": []
  },
  {
   "cell_type": "code",
   "execution_count": null,
   "id": "2c077fdb",
   "metadata": {},
   "outputs": [],
   "source": []
  },
  {
   "cell_type": "code",
   "execution_count": null,
   "id": "26de2673",
   "metadata": {},
   "outputs": [],
   "source": [
    "module = modules['tliba.summary']"
   ]
  },
  {
   "cell_type": "code",
   "execution_count": null,
   "id": "dc4b6c7c",
   "metadata": {},
   "outputs": [],
   "source": [
    "project = projects[\"tliba\"]"
   ]
  },
  {
   "cell_type": "code",
   "execution_count": null,
   "id": "43b13840",
   "metadata": {},
   "outputs": [],
   "source": [
    "node_token_range = module.tree_tokens.get_text_range(node)\n",
    "location = find_definition(\n",
    "    projects[\"tliba\"],\n",
    "    module.code,\n",
    "    offset=node_token_range[0]\n",
    ")"
   ]
  },
  {
   "cell_type": "code",
   "execution_count": null,
   "id": "c878854b",
   "metadata": {},
   "outputs": [],
   "source": [
    "location"
   ]
  },
  {
   "cell_type": "code",
   "execution_count": null,
   "id": "b53c3749",
   "metadata": {},
   "outputs": [],
   "source": [
    "def hash_func(location, project):\n",
    "    module = project.get_pymodule(location.resource)\n",
    "    fname = location.resource.read()[location.region[0]:location.region[1]]\n",
    "    func = rope_mod.get_attribute(fname).get_object()\n",
    "    node = func.ast_node"
   ]
  },
  {
   "cell_type": "code",
   "execution_count": null,
   "id": "210c93eb",
   "metadata": {},
   "outputs": [],
   "source": [
    "module = project.get_pymodule(location.resource)\n",
    "fname = location.resource.read()[location.region[0]:location.region[1]]\n",
    "func = module.get_attribute(fname).get_object()\n",
    "node = func.ast_node"
   ]
  },
  {
   "cell_type": "code",
   "execution_count": null,
   "id": "88359bdf",
   "metadata": {},
   "outputs": [],
   "source": [
    "node"
   ]
  },
  {
   "cell_type": "code",
   "execution_count": null,
   "id": "e52b2eba",
   "metadata": {},
   "outputs": [],
   "source": [
    "func.get_ast()"
   ]
  },
  {
   "cell_type": "code",
   "execution_count": null,
   "id": "912d570c",
   "metadata": {},
   "outputs": [],
   "source": [
    "func"
   ]
  },
  {
   "cell_type": "code",
   "execution_count": null,
   "id": "522de432",
   "metadata": {},
   "outputs": [],
   "source": [
    "location.resource.read()[location.region[0]:location.region[1]]"
   ]
  },
  {
   "cell_type": "code",
   "execution_count": null,
   "id": "f89f2206",
   "metadata": {},
   "outputs": [],
   "source": [
    "import rope"
   ]
  },
  {
   "cell_type": "code",
   "execution_count": null,
   "id": "1a050991",
   "metadata": {},
   "outputs": [],
   "source": [
    "from pycodehash.tracing.stores import ModuleView"
   ]
  },
  {
   "cell_type": "code",
   "execution_count": null,
   "id": "45205577",
   "metadata": {},
   "outputs": [],
   "source": [
    "module.get_resource().pathlib"
   ]
  },
  {
   "cell_type": "code",
   "execution_count": null,
   "id": "f69e8e06",
   "metadata": {},
   "outputs": [],
   "source": [
    "module.resource.read()"
   ]
  },
  {
   "cell_type": "code",
   "execution_count": null,
   "id": "1da5f1ae",
   "metadata": {},
   "outputs": [],
   "source": [
    "def _create_module_view(mod: rope.base.pyobjectsdef.PyModule) -> ModuleView:\n",
    "    name = mod.get_name()\n",
    "    pkg, _sep, _stem = name.partition(\".\")\n",
    "    path = module.get_resource().pathlib\n",
    "    code = module.resource.read()\n",
    "    tree = module.get_ast()\n",
    "\n",
    "    return ModuleView(\n",
    "        pkg=pkg,\n",
    "        name=name,\n",
    "        path=path,\n",
    "        code=code,\n",
    "        tree=tree,\n",
    "        tree_tokens=asttokens.ASTTokens(code, parse=False, tree=tree),\n",
    "    )\n"
   ]
  },
  {
   "cell_type": "code",
   "execution_count": null,
   "id": "c48b5392",
   "metadata": {},
   "outputs": [],
   "source": [
    "_create_module_view(module)"
   ]
  },
  {
   "cell_type": "code",
   "execution_count": null,
   "id": "b8f52359",
   "metadata": {},
   "outputs": [],
   "source": [
    "type(module)"
   ]
  },
  {
   "cell_type": "code",
   "execution_count": null,
   "id": "a8b6e7b3",
   "metadata": {},
   "outputs": [],
   "source": [
    "module.get_name()"
   ]
  },
  {
   "cell_type": "code",
   "execution_count": null,
   "id": "2cd56e33",
   "metadata": {},
   "outputs": [],
   "source": [
    "func.get_ast()"
   ]
  },
  {
   "cell_type": "code",
   "execution_count": null,
   "id": "df4b59e6",
   "metadata": {},
   "outputs": [],
   "source": [
    "module"
   ]
  },
  {
   "cell_type": "code",
   "execution_count": null,
   "id": "edb9e0e6",
   "metadata": {},
   "outputs": [],
   "source": []
  },
  {
   "cell_type": "code",
   "execution_count": null,
   "id": "da3afdfb",
   "metadata": {},
   "outputs": [],
   "source": [
    "print(location.resource.read())"
   ]
  },
  {
   "cell_type": "code",
   "execution_count": null,
   "id": "307cfd6e",
   "metadata": {},
   "outputs": [],
   "source": [
    "modules[\"tliba.summary\"].code[145:208]"
   ]
  },
  {
   "cell_type": "code",
   "execution_count": null,
   "id": "dc5f11da",
   "metadata": {},
   "outputs": [],
   "source": [
    "modules[\"tliba.summary\"].tree_tokens.get_text_range(node)"
   ]
  },
  {
   "cell_type": "code",
   "execution_count": null,
   "id": "24663700",
   "metadata": {},
   "outputs": [],
   "source": [
    "node.lineno"
   ]
  },
  {
   "cell_type": "code",
   "execution_count": null,
   "id": "315f5034",
   "metadata": {},
   "outputs": [],
   "source": [
    "ast.unparse(node)"
   ]
  },
  {
   "cell_type": "code",
   "execution_count": null,
   "id": "c93eb6d0",
   "metadata": {},
   "outputs": [],
   "source": [
    "projects[\"tliba\"].find_module(\"summary\")"
   ]
  }
 ],
 "metadata": {
  "kernelspec": {
   "display_name": "Python 3 (ipykernel)",
   "language": "python",
   "name": "python3"
  },
  "language_info": {
   "codemirror_mode": {
    "name": "ipython",
    "version": 3
   },
   "file_extension": ".py",
   "mimetype": "text/x-python",
   "name": "python",
   "nbconvert_exporter": "python",
   "pygments_lexer": "ipython3",
   "version": "3.11.3"
  }
 },
 "nbformat": 4,
 "nbformat_minor": 5
}
