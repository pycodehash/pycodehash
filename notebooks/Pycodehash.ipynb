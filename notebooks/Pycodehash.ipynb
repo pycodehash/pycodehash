{
 "cells": [
  {
   "cell_type": "code",
   "execution_count": 1,
   "id": "4a9b5c08-9588-4e77-8b69-975e764f42cd",
   "metadata": {},
   "outputs": [],
   "source": [
    "import inspect\n",
    "import ast\n",
    "from ast import NodeTransformer\n",
    "import hashlib\n",
    "\n",
    "from pathlib import Path"
   ]
  },
  {
   "cell_type": "code",
   "execution_count": 2,
   "id": "5e427a56-5fc6-4521-b28b-12a7d8da5fd1",
   "metadata": {},
   "outputs": [],
   "source": [
    "!pip install rich -q"
   ]
  },
  {
   "cell_type": "code",
   "execution_count": 3,
   "id": "7a5bf9a7-5826-477f-bc98-6b88266c0fd1",
   "metadata": {},
   "outputs": [],
   "source": [
    "from rich import print"
   ]
  },
  {
   "cell_type": "code",
   "execution_count": 4,
   "id": "101fca19-dfba-45af-ba58-470b799625dd",
   "metadata": {},
   "outputs": [],
   "source": [
    "from asttokens import ASTTokens"
   ]
  },
  {
   "cell_type": "code",
   "execution_count": 5,
   "id": "df9d17d7-6220-4c39-83f0-be4182e21fa1",
   "metadata": {},
   "outputs": [],
   "source": [
    "from tliba.etl import add_bernoulli_samples, combine_random_samples\n",
    "from tliba import compute_moments\n",
    "from tliba.random import draw_beta_samples"
   ]
  },
  {
   "cell_type": "code",
   "execution_count": 6,
   "id": "a87e40f3-c555-4ab5-9f16-d52c656db620",
   "metadata": {},
   "outputs": [],
   "source": [
    "funcs = [\n",
    "    add_bernoulli_samples,\n",
    "    combine_random_samples,\n",
    "    compute_moments,\n",
    "    draw_beta_samples,\n",
    "]"
   ]
  },
  {
   "cell_type": "code",
   "execution_count": 7,
   "id": "9f6f9ad0-dd17-44a1-9782-4ba16ce4224f",
   "metadata": {},
   "outputs": [
    {
     "data": {
      "text/plain": [
       "[<module 'tliba.etl' from '/Users/AF57BI/Documents/code/pycodehash/venv/lib/python3.9/site-packages/tliba/etl.py'>,\n",
       " <module 'tliba.etl' from '/Users/AF57BI/Documents/code/pycodehash/venv/lib/python3.9/site-packages/tliba/etl.py'>,\n",
       " <module 'tliba.summary' from '/Users/AF57BI/Documents/code/pycodehash/venv/lib/python3.9/site-packages/tliba/summary.py'>,\n",
       " <module 'tliba.random.rng' from '/Users/AF57BI/Documents/code/pycodehash/venv/lib/python3.9/site-packages/tliba/random/rng.py'>]"
      ]
     },
     "execution_count": 7,
     "metadata": {},
     "output_type": "execute_result"
    }
   ],
   "source": [
    "modules = [\n",
    "    inspect.getmodule(func)\n",
    "    for func in funcs\n",
    "]\n",
    "modules"
   ]
  },
  {
   "cell_type": "code",
   "execution_count": 8,
   "id": "fb0a9edf-f86b-4099-aa98-cec4ce75d617",
   "metadata": {},
   "outputs": [
    {
     "data": {
      "text/html": [
       "<pre style=\"white-space:pre;overflow-x:auto;line-height:normal;font-family:Menlo,'DejaVu Sans Mono',consolas,'Courier New',monospace\"><span style=\"font-weight: bold\">[</span>\n",
       "    <span style=\"font-weight: bold\">{</span>\n",
       "        <span style=\"color: #008000; text-decoration-color: #008000\">'name'</span>: <span style=\"color: #008000; text-decoration-color: #008000\">'tliba.etl'</span>,\n",
       "        <span style=\"color: #008000; text-decoration-color: #008000\">'path'</span>: <span style=\"color: #800080; text-decoration-color: #800080; font-weight: bold\">PosixPath</span><span style=\"font-weight: bold\">(</span><span style=\"color: #008000; text-decoration-color: #008000\">'/Users/AF57BI/Documents/code/pycodehash/venv/lib/python3.9/site-packages/tliba/etl.py'</span><span style=\"font-weight: bold\">)</span>,\n",
       "        <span style=\"color: #008000; text-decoration-color: #008000\">'pkg'</span>: <span style=\"color: #008000; text-decoration-color: #008000\">'tliba'</span>,\n",
       "        <span style=\"color: #008000; text-decoration-color: #008000\">'src'</span>: <span style=\"color: #008000; text-decoration-color: #008000\">'import pandas as pd\\n\\n# import tliba.random.rng as rng\\nfrom tliba.random import rng\\nfrom </span>\n",
       "<span style=\"color: #008000; text-decoration-color: #008000\">tliba.random import draw_bernoulli_samples\\nfrom tliba.random import draw_normal_samples as normal_samples, </span>\n",
       "<span style=\"color: #008000; text-decoration-color: #008000\">draw_normal_samples\\n\\n\\ndef draw_beta_samples():\\n    print(\"duplicate function in different files\")\\n\\n\\ndef </span>\n",
       "<span style=\"color: #008000; text-decoration-color: #008000\">combine_random_samples():\\n    return pd.concat((rng.draw_beta_samples(), normal_samples(), draw_normal_samples()),</span>\n",
       "<span style=\"color: #008000; text-decoration-color: #008000\">axis=1)\\n\\n\\ndef add_bernoulli_samples():\\n    df = combine_random_samples().copy()\\n    df[\"bernoulli\"] = </span>\n",
       "<span style=\"color: #008000; text-decoration-color: #008000\">draw_bernoulli_samples()\\n    return df\\n'</span>,\n",
       "        <span style=\"color: #008000; text-decoration-color: #008000\">'tree'</span>: <span style=\"font-weight: bold\">&lt;</span><span style=\"color: #ff00ff; text-decoration-color: #ff00ff; font-weight: bold\">ast.Module</span><span style=\"color: #000000; text-decoration-color: #000000\"> object at </span><span style=\"color: #008080; text-decoration-color: #008080; font-weight: bold\">0x116615fd0</span><span style=\"color: #000000; text-decoration-color: #000000\">&gt;,</span>\n",
       "<span style=\"color: #000000; text-decoration-color: #000000\">        </span><span style=\"color: #008000; text-decoration-color: #008000\">'tokens'</span><span style=\"color: #000000; text-decoration-color: #000000\">: &lt;asttokens.asttokens.ASTTokens object at </span><span style=\"color: #008080; text-decoration-color: #008080; font-weight: bold\">0x106e3fdf0</span><span style=\"color: #000000; text-decoration-color: #000000\">&gt;</span>\n",
       "<span style=\"color: #000000; text-decoration-color: #000000\">    </span><span style=\"color: #000000; text-decoration-color: #000000; font-weight: bold\">}</span><span style=\"color: #000000; text-decoration-color: #000000\">,</span>\n",
       "<span style=\"color: #000000; text-decoration-color: #000000\">    </span><span style=\"color: #000000; text-decoration-color: #000000; font-weight: bold\">{</span>\n",
       "<span style=\"color: #000000; text-decoration-color: #000000\">        </span><span style=\"color: #008000; text-decoration-color: #008000\">'name'</span><span style=\"color: #000000; text-decoration-color: #000000\">: </span><span style=\"color: #008000; text-decoration-color: #008000\">'tliba.etl'</span><span style=\"color: #000000; text-decoration-color: #000000\">,</span>\n",
       "<span style=\"color: #000000; text-decoration-color: #000000\">        </span><span style=\"color: #008000; text-decoration-color: #008000\">'path'</span><span style=\"color: #000000; text-decoration-color: #000000\">: </span><span style=\"color: #800080; text-decoration-color: #800080; font-weight: bold\">PosixPath</span><span style=\"color: #000000; text-decoration-color: #000000; font-weight: bold\">(</span><span style=\"color: #008000; text-decoration-color: #008000\">'/Users/AF57BI/Documents/code/pycodehash/venv/lib/python3.9/site-packages/tliba/etl.py'</span><span style=\"color: #000000; text-decoration-color: #000000; font-weight: bold\">)</span><span style=\"color: #000000; text-decoration-color: #000000\">,</span>\n",
       "<span style=\"color: #000000; text-decoration-color: #000000\">        </span><span style=\"color: #008000; text-decoration-color: #008000\">'pkg'</span><span style=\"color: #000000; text-decoration-color: #000000\">: </span><span style=\"color: #008000; text-decoration-color: #008000\">'tliba'</span><span style=\"color: #000000; text-decoration-color: #000000\">,</span>\n",
       "<span style=\"color: #000000; text-decoration-color: #000000\">        </span><span style=\"color: #008000; text-decoration-color: #008000\">'src'</span><span style=\"color: #000000; text-decoration-color: #000000\">: </span><span style=\"color: #008000; text-decoration-color: #008000\">'import pandas as pd\\n\\n# import tliba.random.rng as rng\\nfrom tliba.random import rng\\nfrom </span>\n",
       "<span style=\"color: #008000; text-decoration-color: #008000\">tliba.random import draw_bernoulli_samples\\nfrom tliba.random import draw_normal_samples as normal_samples, </span>\n",
       "<span style=\"color: #008000; text-decoration-color: #008000\">draw_normal_samples\\n\\n\\ndef draw_beta_samples():\\n    print(\"duplicate function in different files\")\\n\\n\\ndef </span>\n",
       "<span style=\"color: #008000; text-decoration-color: #008000\">combine_random_samples():\\n    return pd.concat((rng.draw_beta_samples(), normal_samples(), draw_normal_samples()),</span>\n",
       "<span style=\"color: #008000; text-decoration-color: #008000\">axis=1)\\n\\n\\ndef add_bernoulli_samples():\\n    df = combine_random_samples().copy()\\n    df[\"bernoulli\"] = </span>\n",
       "<span style=\"color: #008000; text-decoration-color: #008000\">draw_bernoulli_samples()\\n    return df\\n'</span><span style=\"color: #000000; text-decoration-color: #000000\">,</span>\n",
       "<span style=\"color: #000000; text-decoration-color: #000000\">        </span><span style=\"color: #008000; text-decoration-color: #008000\">'tree'</span><span style=\"color: #000000; text-decoration-color: #000000\">: &lt;ast.Module object at </span><span style=\"color: #008080; text-decoration-color: #008080; font-weight: bold\">0x116637e50</span><span style=\"color: #000000; text-decoration-color: #000000\">&gt;,</span>\n",
       "<span style=\"color: #000000; text-decoration-color: #000000\">        </span><span style=\"color: #008000; text-decoration-color: #008000\">'tokens'</span><span style=\"color: #000000; text-decoration-color: #000000\">: &lt;asttokens.asttokens.ASTTokens object at </span><span style=\"color: #008080; text-decoration-color: #008080; font-weight: bold\">0x116637130</span><span style=\"color: #000000; text-decoration-color: #000000\">&gt;</span>\n",
       "<span style=\"color: #000000; text-decoration-color: #000000\">    </span><span style=\"color: #000000; text-decoration-color: #000000; font-weight: bold\">}</span><span style=\"color: #000000; text-decoration-color: #000000\">,</span>\n",
       "<span style=\"color: #000000; text-decoration-color: #000000\">    </span><span style=\"color: #000000; text-decoration-color: #000000; font-weight: bold\">{</span>\n",
       "<span style=\"color: #000000; text-decoration-color: #000000\">        </span><span style=\"color: #008000; text-decoration-color: #008000\">'name'</span><span style=\"color: #000000; text-decoration-color: #000000\">: </span><span style=\"color: #008000; text-decoration-color: #008000\">'tliba.summary'</span><span style=\"color: #000000; text-decoration-color: #000000\">,</span>\n",
       "<span style=\"color: #000000; text-decoration-color: #000000\">        </span><span style=\"color: #008000; text-decoration-color: #008000\">'path'</span><span style=\"color: #000000; text-decoration-color: #000000\">: </span>\n",
       "<span style=\"color: #800080; text-decoration-color: #800080; font-weight: bold\">PosixPath</span><span style=\"color: #000000; text-decoration-color: #000000; font-weight: bold\">(</span><span style=\"color: #008000; text-decoration-color: #008000\">'/Users/AF57BI/Documents/code/pycodehash/venv/lib/python3.9/site-packages/tliba/summary.py'</span><span style=\"color: #000000; text-decoration-color: #000000; font-weight: bold\">)</span><span style=\"color: #000000; text-decoration-color: #000000\">,</span>\n",
       "<span style=\"color: #000000; text-decoration-color: #000000\">        </span><span style=\"color: #008000; text-decoration-color: #008000\">'pkg'</span><span style=\"color: #000000; text-decoration-color: #000000\">: </span><span style=\"color: #008000; text-decoration-color: #008000\">'tliba'</span><span style=\"color: #000000; text-decoration-color: #000000\">,</span>\n",
       "<span style=\"color: #000000; text-decoration-color: #000000\">        </span><span style=\"color: #008000; text-decoration-color: #008000\">'src'</span><span style=\"color: #000000; text-decoration-color: #000000\">: </span><span style=\"color: #008000; text-decoration-color: #008000\">'import numpy as np\\n\\nfrom tliba.etl import combine_random_samples\\nfrom tliba.etl import </span>\n",
       "<span style=\"color: #008000; text-decoration-color: #008000\">add_bernoulli_samples\\n\\n\\ndef compute_moments():\\n    return combine_random_samples().aggregate([np.mean, </span>\n",
       "<span style=\"color: #008000; text-decoration-color: #008000\">np.median, \"var\"])\\n\\n\\ndef compute_conditional_moments():\\n    df = add_bernoulli_samples()\\n    return </span>\n",
       "<span style=\"color: #008000; text-decoration-color: #008000\">df.groupby(\"bernoulli\").aggregate([np.mean, np.median, \"var\"])\\n'</span><span style=\"color: #000000; text-decoration-color: #000000\">,</span>\n",
       "<span style=\"color: #000000; text-decoration-color: #000000\">        </span><span style=\"color: #008000; text-decoration-color: #008000\">'tree'</span><span style=\"color: #000000; text-decoration-color: #000000\">: &lt;ast.Module object at </span><span style=\"color: #008080; text-decoration-color: #008080; font-weight: bold\">0x116615490</span><span style=\"color: #000000; text-decoration-color: #000000\">&gt;,</span>\n",
       "<span style=\"color: #000000; text-decoration-color: #000000\">        </span><span style=\"color: #008000; text-decoration-color: #008000\">'tokens'</span><span style=\"color: #000000; text-decoration-color: #000000\">: &lt;asttokens.asttokens.ASTTokens object at </span><span style=\"color: #008080; text-decoration-color: #008080; font-weight: bold\">0x11662c1f0</span><span style=\"color: #000000; text-decoration-color: #000000\">&gt;</span>\n",
       "<span style=\"color: #000000; text-decoration-color: #000000\">    </span><span style=\"color: #000000; text-decoration-color: #000000; font-weight: bold\">}</span><span style=\"color: #000000; text-decoration-color: #000000\">,</span>\n",
       "<span style=\"color: #000000; text-decoration-color: #000000\">    </span><span style=\"color: #000000; text-decoration-color: #000000; font-weight: bold\">{</span>\n",
       "<span style=\"color: #000000; text-decoration-color: #000000\">        </span><span style=\"color: #008000; text-decoration-color: #008000\">'name'</span><span style=\"color: #000000; text-decoration-color: #000000\">: </span><span style=\"color: #008000; text-decoration-color: #008000\">'tliba.random.rng'</span><span style=\"color: #000000; text-decoration-color: #000000\">,</span>\n",
       "<span style=\"color: #000000; text-decoration-color: #000000\">        </span><span style=\"color: #008000; text-decoration-color: #008000\">'path'</span><span style=\"color: #000000; text-decoration-color: #000000\">: </span>\n",
       "<span style=\"color: #800080; text-decoration-color: #800080; font-weight: bold\">PosixPath</span><span style=\"color: #000000; text-decoration-color: #000000; font-weight: bold\">(</span><span style=\"color: #008000; text-decoration-color: #008000\">'/Users/AF57BI/Documents/code/pycodehash/venv/lib/python3.9/site-packages/tliba/random/rng.py'</span><span style=\"color: #000000; text-decoration-color: #000000; font-weight: bold\">)</span><span style=\"color: #000000; text-decoration-color: #000000\">,</span>\n",
       "<span style=\"color: #000000; text-decoration-color: #000000\">        </span><span style=\"color: #008000; text-decoration-color: #008000\">'pkg'</span><span style=\"color: #000000; text-decoration-color: #000000\">: </span><span style=\"color: #008000; text-decoration-color: #008000\">'tliba'</span><span style=\"color: #000000; text-decoration-color: #000000\">,</span>\n",
       "<span style=\"color: #000000; text-decoration-color: #000000\">        </span><span style=\"color: #008000; text-decoration-color: #008000\">'src'</span><span style=\"color: #000000; text-decoration-color: #000000\">: </span><span style=\"color: #008000; text-decoration-color: #008000\">'import pandas as pd\\nimport numpy as np\\n\\n\\ndef draw_beta_samples():\\n    \"\"\"Create table </span>\n",
       "<span style=\"color: #008000; text-decoration-color: #008000\">consisting of 5000 draws from a Beta(2, 5) distribution.\"\"\"\\n    return pd.DataFrame(np.random.beta(2, 5, 5000), </span>\n",
       "<span style=\"color: #008000; text-decoration-color: #008000\">columns=[\"beta\"])\\n\\n\\ndef draw_normal_samples():\\n    \"\"\"Create table consisting of 5000 draws from a standard </span>\n",
       "<span style=\"color: #008000; text-decoration-color: #008000\">normal distribution.\"\"\"\\n    return pd.DataFrame(np.random.normal(0, 1, 5000), columns=[\"normal\"])\\n\\n\\ndef </span>\n",
       "<span style=\"color: #008000; text-decoration-color: #008000\">draw_bernoulli_samples():\\n    \"\"\"Create table consisting of 5000 draws from a bernoulli distribution where the </span>\n",
       "<span style=\"color: #008000; text-decoration-color: #008000\">probability is drawn form a Beta(2, 5).\"\"\"\\n    return pd.DataFrame(\\n        np.random.binomial(1, </span>\n",
       "<span style=\"color: #008000; text-decoration-color: #008000\">draw_beta_samples().values.flatten(), 5000),\\n        columns=[\"binomial\"],\\n    )\\n'</span><span style=\"color: #000000; text-decoration-color: #000000\">,</span>\n",
       "<span style=\"color: #000000; text-decoration-color: #000000\">        </span><span style=\"color: #008000; text-decoration-color: #008000\">'tree'</span><span style=\"color: #000000; text-decoration-color: #000000\">: &lt;ast.Module object at </span><span style=\"color: #008080; text-decoration-color: #008080; font-weight: bold\">0x116652fd0</span><span style=\"color: #000000; text-decoration-color: #000000\">&gt;,</span>\n",
       "<span style=\"color: #000000; text-decoration-color: #000000\">        </span><span style=\"color: #008000; text-decoration-color: #008000\">'tokens'</span><span style=\"color: #000000; text-decoration-color: #000000\">: &lt;asttokens.asttokens.ASTTokens object at </span><span style=\"color: #008080; text-decoration-color: #008080; font-weight: bold\">0x116652550</span><span style=\"font-weight: bold\">&gt;</span>\n",
       "    <span style=\"font-weight: bold\">}</span>\n",
       "<span style=\"font-weight: bold\">]</span>\n",
       "</pre>\n"
      ],
      "text/plain": [
       "\u001b[1m[\u001b[0m\n",
       "    \u001b[1m{\u001b[0m\n",
       "        \u001b[32m'name'\u001b[0m: \u001b[32m'tliba.etl'\u001b[0m,\n",
       "        \u001b[32m'path'\u001b[0m: \u001b[1;35mPosixPath\u001b[0m\u001b[1m(\u001b[0m\u001b[32m'/Users/AF57BI/Documents/code/pycodehash/venv/lib/python3.9/site-packages/tliba/etl.py'\u001b[0m\u001b[1m)\u001b[0m,\n",
       "        \u001b[32m'pkg'\u001b[0m: \u001b[32m'tliba'\u001b[0m,\n",
       "        \u001b[32m'src'\u001b[0m: \u001b[32m'import pandas as pd\\n\\n# import tliba.random.rng as rng\\nfrom tliba.random import rng\\nfrom \u001b[0m\n",
       "\u001b[32mtliba.random import draw_bernoulli_samples\\nfrom tliba.random import draw_normal_samples as normal_samples, \u001b[0m\n",
       "\u001b[32mdraw_normal_samples\\n\\n\\ndef draw_beta_samples\u001b[0m\u001b[32m(\u001b[0m\u001b[32m)\u001b[0m\u001b[32m:\\n    print\u001b[0m\u001b[32m(\u001b[0m\u001b[32m\"duplicate function in different files\"\u001b[0m\u001b[32m)\u001b[0m\u001b[32m\\n\\n\\ndef \u001b[0m\n",
       "\u001b[32mcombine_random_samples\u001b[0m\u001b[32m(\u001b[0m\u001b[32m)\u001b[0m\u001b[32m:\\n    return pd.concat\u001b[0m\u001b[32m(\u001b[0m\u001b[32m(\u001b[0m\u001b[32mrng.draw_beta_samples\u001b[0m\u001b[32m(\u001b[0m\u001b[32m)\u001b[0m\u001b[32m, normal_samples\u001b[0m\u001b[32m(\u001b[0m\u001b[32m)\u001b[0m\u001b[32m, draw_normal_samples\u001b[0m\u001b[32m(\u001b[0m\u001b[32m)\u001b[0m\u001b[32m)\u001b[0m\u001b[32m,\u001b[0m\n",
       "\u001b[32maxis\u001b[0m\u001b[32m=\u001b[0m\u001b[32m1\u001b[0m\u001b[32m)\u001b[0m\u001b[32m\\n\\n\\ndef add_bernoulli_samples\u001b[0m\u001b[32m(\u001b[0m\u001b[32m)\u001b[0m\u001b[32m:\\n    df = combine_random_samples\u001b[0m\u001b[32m(\u001b[0m\u001b[32m)\u001b[0m\u001b[32m.copy\u001b[0m\u001b[32m(\u001b[0m\u001b[32m)\u001b[0m\u001b[32m\\n    df\u001b[0m\u001b[32m[\u001b[0m\u001b[32m\"bernoulli\"\u001b[0m\u001b[32m]\u001b[0m\u001b[32m = \u001b[0m\n",
       "\u001b[32mdraw_bernoulli_samples\u001b[0m\u001b[32m(\u001b[0m\u001b[32m)\u001b[0m\u001b[32m\\n    return df\\n'\u001b[0m,\n",
       "        \u001b[32m'tree'\u001b[0m: \u001b[1m<\u001b[0m\u001b[1;95mast.Module\u001b[0m\u001b[39m object at \u001b[0m\u001b[1;36m0x116615fd0\u001b[0m\u001b[39m>,\u001b[0m\n",
       "\u001b[39m        \u001b[0m\u001b[32m'tokens'\u001b[0m\u001b[39m: <asttokens.asttokens.ASTTokens object at \u001b[0m\u001b[1;36m0x106e3fdf0\u001b[0m\u001b[39m>\u001b[0m\n",
       "\u001b[39m    \u001b[0m\u001b[1;39m}\u001b[0m\u001b[39m,\u001b[0m\n",
       "\u001b[39m    \u001b[0m\u001b[1;39m{\u001b[0m\n",
       "\u001b[39m        \u001b[0m\u001b[32m'name'\u001b[0m\u001b[39m: \u001b[0m\u001b[32m'tliba.etl'\u001b[0m\u001b[39m,\u001b[0m\n",
       "\u001b[39m        \u001b[0m\u001b[32m'path'\u001b[0m\u001b[39m: \u001b[0m\u001b[1;35mPosixPath\u001b[0m\u001b[1;39m(\u001b[0m\u001b[32m'/Users/AF57BI/Documents/code/pycodehash/venv/lib/python3.9/site-packages/tliba/etl.py'\u001b[0m\u001b[1;39m)\u001b[0m\u001b[39m,\u001b[0m\n",
       "\u001b[39m        \u001b[0m\u001b[32m'pkg'\u001b[0m\u001b[39m: \u001b[0m\u001b[32m'tliba'\u001b[0m\u001b[39m,\u001b[0m\n",
       "\u001b[39m        \u001b[0m\u001b[32m'src'\u001b[0m\u001b[39m: \u001b[0m\u001b[32m'import pandas as pd\\n\\n# import tliba.random.rng as rng\\nfrom tliba.random import rng\\nfrom \u001b[0m\n",
       "\u001b[32mtliba.random import draw_bernoulli_samples\\nfrom tliba.random import draw_normal_samples as normal_samples, \u001b[0m\n",
       "\u001b[32mdraw_normal_samples\\n\\n\\ndef draw_beta_samples\u001b[0m\u001b[32m(\u001b[0m\u001b[32m)\u001b[0m\u001b[32m:\\n    print\u001b[0m\u001b[32m(\u001b[0m\u001b[32m\"duplicate function in different files\"\u001b[0m\u001b[32m)\u001b[0m\u001b[32m\\n\\n\\ndef \u001b[0m\n",
       "\u001b[32mcombine_random_samples\u001b[0m\u001b[32m(\u001b[0m\u001b[32m)\u001b[0m\u001b[32m:\\n    return pd.concat\u001b[0m\u001b[32m(\u001b[0m\u001b[32m(\u001b[0m\u001b[32mrng.draw_beta_samples\u001b[0m\u001b[32m(\u001b[0m\u001b[32m)\u001b[0m\u001b[32m, normal_samples\u001b[0m\u001b[32m(\u001b[0m\u001b[32m)\u001b[0m\u001b[32m, draw_normal_samples\u001b[0m\u001b[32m(\u001b[0m\u001b[32m)\u001b[0m\u001b[32m)\u001b[0m\u001b[32m,\u001b[0m\n",
       "\u001b[32maxis\u001b[0m\u001b[32m=\u001b[0m\u001b[32m1\u001b[0m\u001b[32m)\u001b[0m\u001b[32m\\n\\n\\ndef add_bernoulli_samples\u001b[0m\u001b[32m(\u001b[0m\u001b[32m)\u001b[0m\u001b[32m:\\n    df = combine_random_samples\u001b[0m\u001b[32m(\u001b[0m\u001b[32m)\u001b[0m\u001b[32m.copy\u001b[0m\u001b[32m(\u001b[0m\u001b[32m)\u001b[0m\u001b[32m\\n    df\u001b[0m\u001b[32m[\u001b[0m\u001b[32m\"bernoulli\"\u001b[0m\u001b[32m]\u001b[0m\u001b[32m = \u001b[0m\n",
       "\u001b[32mdraw_bernoulli_samples\u001b[0m\u001b[32m(\u001b[0m\u001b[32m)\u001b[0m\u001b[32m\\n    return df\\n'\u001b[0m\u001b[39m,\u001b[0m\n",
       "\u001b[39m        \u001b[0m\u001b[32m'tree'\u001b[0m\u001b[39m: <ast.Module object at \u001b[0m\u001b[1;36m0x116637e50\u001b[0m\u001b[39m>,\u001b[0m\n",
       "\u001b[39m        \u001b[0m\u001b[32m'tokens'\u001b[0m\u001b[39m: <asttokens.asttokens.ASTTokens object at \u001b[0m\u001b[1;36m0x116637130\u001b[0m\u001b[39m>\u001b[0m\n",
       "\u001b[39m    \u001b[0m\u001b[1;39m}\u001b[0m\u001b[39m,\u001b[0m\n",
       "\u001b[39m    \u001b[0m\u001b[1;39m{\u001b[0m\n",
       "\u001b[39m        \u001b[0m\u001b[32m'name'\u001b[0m\u001b[39m: \u001b[0m\u001b[32m'tliba.summary'\u001b[0m\u001b[39m,\u001b[0m\n",
       "\u001b[39m        \u001b[0m\u001b[32m'path'\u001b[0m\u001b[39m: \u001b[0m\n",
       "\u001b[1;35mPosixPath\u001b[0m\u001b[1;39m(\u001b[0m\u001b[32m'/Users/AF57BI/Documents/code/pycodehash/venv/lib/python3.9/site-packages/tliba/summary.py'\u001b[0m\u001b[1;39m)\u001b[0m\u001b[39m,\u001b[0m\n",
       "\u001b[39m        \u001b[0m\u001b[32m'pkg'\u001b[0m\u001b[39m: \u001b[0m\u001b[32m'tliba'\u001b[0m\u001b[39m,\u001b[0m\n",
       "\u001b[39m        \u001b[0m\u001b[32m'src'\u001b[0m\u001b[39m: \u001b[0m\u001b[32m'import numpy as np\\n\\nfrom tliba.etl import combine_random_samples\\nfrom tliba.etl import \u001b[0m\n",
       "\u001b[32madd_bernoulli_samples\\n\\n\\ndef compute_moments\u001b[0m\u001b[32m(\u001b[0m\u001b[32m)\u001b[0m\u001b[32m:\\n    return combine_random_samples\u001b[0m\u001b[32m(\u001b[0m\u001b[32m)\u001b[0m\u001b[32m.aggregate\u001b[0m\u001b[32m(\u001b[0m\u001b[32m[\u001b[0m\u001b[32mnp.mean, \u001b[0m\n",
       "\u001b[32mnp.median, \"var\"\u001b[0m\u001b[32m]\u001b[0m\u001b[32m)\u001b[0m\u001b[32m\\n\\n\\ndef compute_conditional_moments\u001b[0m\u001b[32m(\u001b[0m\u001b[32m)\u001b[0m\u001b[32m:\\n    df = add_bernoulli_samples\u001b[0m\u001b[32m(\u001b[0m\u001b[32m)\u001b[0m\u001b[32m\\n    return \u001b[0m\n",
       "\u001b[32mdf.groupby\u001b[0m\u001b[32m(\u001b[0m\u001b[32m\"bernoulli\"\u001b[0m\u001b[32m)\u001b[0m\u001b[32m.aggregate\u001b[0m\u001b[32m(\u001b[0m\u001b[32m[\u001b[0m\u001b[32mnp.mean, np.median, \"var\"\u001b[0m\u001b[32m]\u001b[0m\u001b[32m)\u001b[0m\u001b[32m\\n'\u001b[0m\u001b[39m,\u001b[0m\n",
       "\u001b[39m        \u001b[0m\u001b[32m'tree'\u001b[0m\u001b[39m: <ast.Module object at \u001b[0m\u001b[1;36m0x116615490\u001b[0m\u001b[39m>,\u001b[0m\n",
       "\u001b[39m        \u001b[0m\u001b[32m'tokens'\u001b[0m\u001b[39m: <asttokens.asttokens.ASTTokens object at \u001b[0m\u001b[1;36m0x11662c1f0\u001b[0m\u001b[39m>\u001b[0m\n",
       "\u001b[39m    \u001b[0m\u001b[1;39m}\u001b[0m\u001b[39m,\u001b[0m\n",
       "\u001b[39m    \u001b[0m\u001b[1;39m{\u001b[0m\n",
       "\u001b[39m        \u001b[0m\u001b[32m'name'\u001b[0m\u001b[39m: \u001b[0m\u001b[32m'tliba.random.rng'\u001b[0m\u001b[39m,\u001b[0m\n",
       "\u001b[39m        \u001b[0m\u001b[32m'path'\u001b[0m\u001b[39m: \u001b[0m\n",
       "\u001b[1;35mPosixPath\u001b[0m\u001b[1;39m(\u001b[0m\u001b[32m'/Users/AF57BI/Documents/code/pycodehash/venv/lib/python3.9/site-packages/tliba/random/rng.py'\u001b[0m\u001b[1;39m)\u001b[0m\u001b[39m,\u001b[0m\n",
       "\u001b[39m        \u001b[0m\u001b[32m'pkg'\u001b[0m\u001b[39m: \u001b[0m\u001b[32m'tliba'\u001b[0m\u001b[39m,\u001b[0m\n",
       "\u001b[39m        \u001b[0m\u001b[32m'src'\u001b[0m\u001b[39m: \u001b[0m\u001b[32m'import pandas as pd\\nimport numpy as np\\n\\n\\ndef draw_beta_samples\u001b[0m\u001b[32m(\u001b[0m\u001b[32m)\u001b[0m\u001b[32m:\\n    \"\"\"Create table \u001b[0m\n",
       "\u001b[32mconsisting of 5000 draws from a Beta\u001b[0m\u001b[32m(\u001b[0m\u001b[32m2, 5\u001b[0m\u001b[32m)\u001b[0m\u001b[32m distribution.\"\"\"\\n    return pd.DataFrame\u001b[0m\u001b[32m(\u001b[0m\u001b[32mnp.random.beta\u001b[0m\u001b[32m(\u001b[0m\u001b[32m2, 5, 5000\u001b[0m\u001b[32m)\u001b[0m\u001b[32m, \u001b[0m\n",
       "\u001b[32mcolumns\u001b[0m\u001b[32m=\u001b[0m\u001b[32m[\u001b[0m\u001b[32m\"beta\"\u001b[0m\u001b[32m]\u001b[0m\u001b[32m)\u001b[0m\u001b[32m\\n\\n\\ndef draw_normal_samples\u001b[0m\u001b[32m(\u001b[0m\u001b[32m)\u001b[0m\u001b[32m:\\n    \"\"\"Create table consisting of 5000 draws from a standard \u001b[0m\n",
       "\u001b[32mnormal distribution.\"\"\"\\n    return pd.DataFrame\u001b[0m\u001b[32m(\u001b[0m\u001b[32mnp.random.normal\u001b[0m\u001b[32m(\u001b[0m\u001b[32m0, 1, 5000\u001b[0m\u001b[32m)\u001b[0m\u001b[32m, \u001b[0m\u001b[32mcolumns\u001b[0m\u001b[32m=\u001b[0m\u001b[32m[\u001b[0m\u001b[32m\"normal\"\u001b[0m\u001b[32m]\u001b[0m\u001b[32m)\u001b[0m\u001b[32m\\n\\n\\ndef \u001b[0m\n",
       "\u001b[32mdraw_bernoulli_samples\u001b[0m\u001b[32m(\u001b[0m\u001b[32m)\u001b[0m\u001b[32m:\\n    \"\"\"Create table consisting of 5000 draws from a bernoulli distribution where the \u001b[0m\n",
       "\u001b[32mprobability is drawn form a Beta\u001b[0m\u001b[32m(\u001b[0m\u001b[32m2, 5\u001b[0m\u001b[32m)\u001b[0m\u001b[32m.\"\"\"\\n    return pd.DataFrame\u001b[0m\u001b[32m(\u001b[0m\u001b[32m\\n        np.random.binomial\u001b[0m\u001b[32m(\u001b[0m\u001b[32m1, \u001b[0m\n",
       "\u001b[32mdraw_beta_samples\u001b[0m\u001b[32m(\u001b[0m\u001b[32m)\u001b[0m\u001b[32m.values.flatten\u001b[0m\u001b[32m(\u001b[0m\u001b[32m)\u001b[0m\u001b[32m, 5000\u001b[0m\u001b[32m)\u001b[0m\u001b[32m,\\n        \u001b[0m\u001b[32mcolumns\u001b[0m\u001b[32m=\u001b[0m\u001b[32m[\u001b[0m\u001b[32m\"binomial\"\u001b[0m\u001b[32m]\u001b[0m\u001b[32m,\\n    \u001b[0m\u001b[32m)\u001b[0m\u001b[32m\\n'\u001b[0m\u001b[39m,\u001b[0m\n",
       "\u001b[39m        \u001b[0m\u001b[32m'tree'\u001b[0m\u001b[39m: <ast.Module object at \u001b[0m\u001b[1;36m0x116652fd0\u001b[0m\u001b[39m>,\u001b[0m\n",
       "\u001b[39m        \u001b[0m\u001b[32m'tokens'\u001b[0m\u001b[39m: <asttokens.asttokens.ASTTokens object at \u001b[0m\u001b[1;36m0x116652550\u001b[0m\u001b[1m>\u001b[0m\n",
       "    \u001b[1m}\u001b[0m\n",
       "\u001b[1m]\u001b[0m\n"
      ]
     },
     "metadata": {},
     "output_type": "display_data"
    }
   ],
   "source": [
    "mod_metadata = []\n",
    "for mod in modules:\n",
    "    data = dict(\n",
    "        name=mod.__name__, \n",
    "        path=Path(inspect.getsourcefile(mod)),\n",
    "    )\n",
    "    data[\"pkg\"] = data[\"name\"].split(\".\", 1)[0]\n",
    "    data[\"src\"] = data[\"path\"].read_text()\n",
    "    data[\"tree\"] = ast.parse(data[\"src\"])\n",
    "    data[\"tokens\"] = ASTTokens(data[\"src\"], parse=False, tree=data[\"tree\"])\n",
    "    mod_metadata.append(data)\n",
    "\n",
    "print(mod_metadata)"
   ]
  },
  {
   "cell_type": "code",
   "execution_count": 9,
   "id": "8e5b0a1d-f9b5-49e6-9a35-9e706e9a18d8",
   "metadata": {},
   "outputs": [],
   "source": [
    "from importlib.util import find_spec\n",
    "\n",
    "from rope.base.libutils import analyze_modules, path_to_resource\n",
    "from rope.base.project import Project\n",
    "from rope.refactor.occurrences import Finder\n",
    "from rope.contrib.findit import Location,find_definition\n"
   ]
  },
  {
   "cell_type": "code",
   "execution_count": 10,
   "id": "0e826f48-baf7-4d2f-8fdf-eb2ada6933f0",
   "metadata": {},
   "outputs": [
    {
     "data": {
      "text/html": [
       "<pre style=\"white-space:pre;overflow-x:auto;line-height:normal;font-family:Menlo,'DejaVu Sans Mono',consolas,'Courier New',monospace\"><span style=\"font-weight: bold\">[</span>\n",
       "    <span style=\"font-weight: bold\">&lt;</span><span style=\"color: #ff00ff; text-decoration-color: #ff00ff; font-weight: bold\">rope.base.project.Project</span><span style=\"color: #000000; text-decoration-color: #000000\"> </span><span style=\"color: #008000; text-decoration-color: #008000\">\"/Users/AF57BI/Documents/code/pycodehash/venv/lib/python3.9/site-packages/tliba\"</span><span style=\"color: #000000; text-decoration-color: #000000\">&gt;,</span>\n",
       "<span style=\"color: #000000; text-decoration-color: #000000\">    &lt;rope.base.project.Project </span><span style=\"color: #008000; text-decoration-color: #008000\">\"/Users/AF57BI/Documents/code/pycodehash/venv/lib/python3.9/site-packages/tliba\"</span><span style=\"color: #000000; text-decoration-color: #000000\">&gt;,</span>\n",
       "<span style=\"color: #000000; text-decoration-color: #000000\">    &lt;rope.base.project.Project </span><span style=\"color: #008000; text-decoration-color: #008000\">\"/Users/AF57BI/Documents/code/pycodehash/venv/lib/python3.9/site-packages/tliba\"</span><span style=\"color: #000000; text-decoration-color: #000000\">&gt;,</span>\n",
       "<span style=\"color: #000000; text-decoration-color: #000000\">    &lt;rope.base.project.Project </span><span style=\"color: #008000; text-decoration-color: #008000\">\"/Users/AF57BI/Documents/code/pycodehash/venv/lib/python3.9/site-packages/tliba\"</span><span style=\"font-weight: bold\">&gt;</span>\n",
       "<span style=\"font-weight: bold\">]</span>\n",
       "</pre>\n"
      ],
      "text/plain": [
       "\u001b[1m[\u001b[0m\n",
       "    \u001b[1m<\u001b[0m\u001b[1;95mrope.base.project.Project\u001b[0m\u001b[39m \u001b[0m\u001b[32m\"/Users/AF57BI/Documents/code/pycodehash/venv/lib/python3.9/site-packages/tliba\"\u001b[0m\u001b[39m>,\u001b[0m\n",
       "\u001b[39m    <rope.base.project.Project \u001b[0m\u001b[32m\"/Users/AF57BI/Documents/code/pycodehash/venv/lib/python3.9/site-packages/tliba\"\u001b[0m\u001b[39m>,\u001b[0m\n",
       "\u001b[39m    <rope.base.project.Project \u001b[0m\u001b[32m\"/Users/AF57BI/Documents/code/pycodehash/venv/lib/python3.9/site-packages/tliba\"\u001b[0m\u001b[39m>,\u001b[0m\n",
       "\u001b[39m    <rope.base.project.Project \u001b[0m\u001b[32m\"/Users/AF57BI/Documents/code/pycodehash/venv/lib/python3.9/site-packages/tliba\"\u001b[0m\u001b[1m>\u001b[0m\n",
       "\u001b[1m]\u001b[0m\n"
      ]
     },
     "metadata": {},
     "output_type": "display_data"
    }
   ],
   "source": [
    "projects = []\n",
    "for data in mod_metadata:\n",
    "    spec = find_spec(data[\"pkg\"])\n",
    "    project = Project(projectroot=spec.submodule_search_locations[0])\n",
    "    analyze_modules(project)\n",
    "    projects.append(project)\n",
    "\n",
    "print(projects)"
   ]
  },
  {
   "cell_type": "code",
   "execution_count": 11,
   "id": "944b9691-4298-4139-a92a-c020cb59ea10",
   "metadata": {},
   "outputs": [
    {
     "data": {
      "text/html": [
       "<pre style=\"white-space:pre;overflow-x:auto;line-height:normal;font-family:Menlo,'DejaVu Sans Mono',consolas,'Courier New',monospace\"><span style=\"font-weight: bold\">[</span>\n",
       "    <span style=\"font-weight: bold\">&lt;</span><span style=\"color: #ff00ff; text-decoration-color: #ff00ff; font-weight: bold\">rope.base.pyobjectsdef.PyModule</span><span style=\"color: #000000; text-decoration-color: #000000\"> </span><span style=\"color: #008000; text-decoration-color: #008000\">\"tliba.etl\"</span><span style=\"color: #000000; text-decoration-color: #000000\"> at </span><span style=\"color: #008080; text-decoration-color: #008080; font-weight: bold\">0x147d58fd0</span><span style=\"color: #000000; text-decoration-color: #000000\">&gt;,</span>\n",
       "<span style=\"color: #000000; text-decoration-color: #000000\">    &lt;rope.base.pyobjectsdef.PyModule </span><span style=\"color: #008000; text-decoration-color: #008000\">\"tliba.etl\"</span><span style=\"color: #000000; text-decoration-color: #000000\"> at </span><span style=\"color: #008080; text-decoration-color: #008080; font-weight: bold\">0x15a74a820</span><span style=\"color: #000000; text-decoration-color: #000000\">&gt;,</span>\n",
       "<span style=\"color: #000000; text-decoration-color: #000000\">    &lt;rope.base.pyobjectsdef.PyModule </span><span style=\"color: #008000; text-decoration-color: #008000\">\"tliba.summary\"</span><span style=\"color: #000000; text-decoration-color: #000000\"> at </span><span style=\"color: #008080; text-decoration-color: #008080; font-weight: bold\">0x15fcbcee0</span><span style=\"color: #000000; text-decoration-color: #000000\">&gt;,</span>\n",
       "<span style=\"color: #000000; text-decoration-color: #000000\">    &lt;rope.base.pyobjectsdef.PyModule </span><span style=\"color: #008000; text-decoration-color: #008000\">\"tliba.random.rng\"</span><span style=\"color: #000000; text-decoration-color: #000000\"> at </span><span style=\"color: #008080; text-decoration-color: #008080; font-weight: bold\">0x15d7ae580</span><span style=\"font-weight: bold\">&gt;</span>\n",
       "<span style=\"font-weight: bold\">]</span>\n",
       "</pre>\n"
      ],
      "text/plain": [
       "\u001b[1m[\u001b[0m\n",
       "    \u001b[1m<\u001b[0m\u001b[1;95mrope.base.pyobjectsdef.PyModule\u001b[0m\u001b[39m \u001b[0m\u001b[32m\"tliba.etl\"\u001b[0m\u001b[39m at \u001b[0m\u001b[1;36m0x147d58fd0\u001b[0m\u001b[39m>,\u001b[0m\n",
       "\u001b[39m    <rope.base.pyobjectsdef.PyModule \u001b[0m\u001b[32m\"tliba.etl\"\u001b[0m\u001b[39m at \u001b[0m\u001b[1;36m0x15a74a820\u001b[0m\u001b[39m>,\u001b[0m\n",
       "\u001b[39m    <rope.base.pyobjectsdef.PyModule \u001b[0m\u001b[32m\"tliba.summary\"\u001b[0m\u001b[39m at \u001b[0m\u001b[1;36m0x15fcbcee0\u001b[0m\u001b[39m>,\u001b[0m\n",
       "\u001b[39m    <rope.base.pyobjectsdef.PyModule \u001b[0m\u001b[32m\"tliba.random.rng\"\u001b[0m\u001b[39m at \u001b[0m\u001b[1;36m0x15d7ae580\u001b[0m\u001b[1m>\u001b[0m\n",
       "\u001b[1m]\u001b[0m\n"
      ]
     },
     "metadata": {},
     "output_type": "display_data"
    }
   ],
   "source": [
    "pymods = []\n",
    "for mod, project in zip(mod_metadata, projects):\n",
    "    pymod = project.get_module(mod[\"name\"])\n",
    "    pymods.append(pymod)\n",
    "\n",
    "print(pymods)"
   ]
  },
  {
   "cell_type": "code",
   "execution_count": 12,
   "id": "46ded125-5954-4639-b23d-380d212e514f",
   "metadata": {},
   "outputs": [],
   "source": [
    "# locs = {}\n",
    "# for project, func, module in zip(projects, funcs, pymods):\n",
    "#     finder = Finder(project, func.__name__)\n",
    "#     mylocs = []\n",
    "#     for occurrence in finder.find_occurrences(pymodule=module):\n",
    "#         mylocs.append(Location(occurrence))\n",
    "#     locs[func.__name__] = mylocs\n",
    "\n",
    "# print(locs)"
   ]
  },
  {
   "cell_type": "code",
   "execution_count": 13,
   "id": "0246ad64-be78-4cd3-a2e2-29425d84d888",
   "metadata": {},
   "outputs": [
    {
     "data": {
      "text/html": [
       "<pre style=\"white-space:pre;overflow-x:auto;line-height:normal;font-family:Menlo,'DejaVu Sans Mono',consolas,'Courier New',monospace\"><span style=\"font-weight: bold\">&lt;</span><span style=\"color: #ff00ff; text-decoration-color: #ff00ff; font-weight: bold\">rope.base.pyobjectsdef.PyFunction</span><span style=\"color: #000000; text-decoration-color: #000000\"> </span><span style=\"color: #008000; text-decoration-color: #008000\">\"tliba.etl::add_bernoulli_samples\"</span><span style=\"color: #000000; text-decoration-color: #000000\"> at </span><span style=\"color: #008080; text-decoration-color: #008080; font-weight: bold\">0x1580bc5e0</span><span style=\"font-weight: bold\">&gt;</span>\n",
       "</pre>\n"
      ],
      "text/plain": [
       "\u001b[1m<\u001b[0m\u001b[1;95mrope.base.pyobjectsdef.PyFunction\u001b[0m\u001b[39m \u001b[0m\u001b[32m\"tliba.etl::add_bernoulli_samples\"\u001b[0m\u001b[39m at \u001b[0m\u001b[1;36m0x1580bc5e0\u001b[0m\u001b[1m>\u001b[0m\n"
      ]
     },
     "metadata": {},
     "output_type": "display_data"
    },
    {
     "data": {
      "text/html": [
       "<pre style=\"white-space:pre;overflow-x:auto;line-height:normal;font-family:Menlo,'DejaVu Sans Mono',consolas,'Courier New',monospace\"><span style=\"font-weight: bold\">&lt;</span><span style=\"color: #ff00ff; text-decoration-color: #ff00ff; font-weight: bold\">rope.base.pyobjectsdef.PyFunction</span><span style=\"color: #000000; text-decoration-color: #000000\"> </span><span style=\"color: #008000; text-decoration-color: #008000\">\"tliba.etl::combine_random_samples\"</span><span style=\"color: #000000; text-decoration-color: #000000\"> at </span><span style=\"color: #008080; text-decoration-color: #008080; font-weight: bold\">0x15a74c190</span><span style=\"font-weight: bold\">&gt;</span>\n",
       "</pre>\n"
      ],
      "text/plain": [
       "\u001b[1m<\u001b[0m\u001b[1;95mrope.base.pyobjectsdef.PyFunction\u001b[0m\u001b[39m \u001b[0m\u001b[32m\"tliba.etl::combine_random_samples\"\u001b[0m\u001b[39m at \u001b[0m\u001b[1;36m0x15a74c190\u001b[0m\u001b[1m>\u001b[0m\n"
      ]
     },
     "metadata": {},
     "output_type": "display_data"
    },
    {
     "data": {
      "text/html": [
       "<pre style=\"white-space:pre;overflow-x:auto;line-height:normal;font-family:Menlo,'DejaVu Sans Mono',consolas,'Courier New',monospace\"><span style=\"font-weight: bold\">&lt;</span><span style=\"color: #ff00ff; text-decoration-color: #ff00ff; font-weight: bold\">rope.base.pyobjectsdef.PyFunction</span><span style=\"color: #000000; text-decoration-color: #000000\"> </span><span style=\"color: #008000; text-decoration-color: #008000\">\"tliba.summary::compute_moments\"</span><span style=\"color: #000000; text-decoration-color: #000000\"> at </span><span style=\"color: #008080; text-decoration-color: #008080; font-weight: bold\">0x15fd9a7f0</span><span style=\"font-weight: bold\">&gt;</span>\n",
       "</pre>\n"
      ],
      "text/plain": [
       "\u001b[1m<\u001b[0m\u001b[1;95mrope.base.pyobjectsdef.PyFunction\u001b[0m\u001b[39m \u001b[0m\u001b[32m\"tliba.summary::compute_moments\"\u001b[0m\u001b[39m at \u001b[0m\u001b[1;36m0x15fd9a7f0\u001b[0m\u001b[1m>\u001b[0m\n"
      ]
     },
     "metadata": {},
     "output_type": "display_data"
    },
    {
     "data": {
      "text/html": [
       "<pre style=\"white-space:pre;overflow-x:auto;line-height:normal;font-family:Menlo,'DejaVu Sans Mono',consolas,'Courier New',monospace\"><span style=\"font-weight: bold\">&lt;</span><span style=\"color: #ff00ff; text-decoration-color: #ff00ff; font-weight: bold\">rope.base.pyobjectsdef.PyFunction</span><span style=\"color: #000000; text-decoration-color: #000000\"> </span><span style=\"color: #008000; text-decoration-color: #008000\">\"tliba.random.rng::draw_beta_samples\"</span><span style=\"color: #000000; text-decoration-color: #000000\"> at </span><span style=\"color: #008080; text-decoration-color: #008080; font-weight: bold\">0x15d7b1bb0</span><span style=\"font-weight: bold\">&gt;</span>\n",
       "</pre>\n"
      ],
      "text/plain": [
       "\u001b[1m<\u001b[0m\u001b[1;95mrope.base.pyobjectsdef.PyFunction\u001b[0m\u001b[39m \u001b[0m\u001b[32m\"tliba.random.rng::draw_beta_samples\"\u001b[0m\u001b[39m at \u001b[0m\u001b[1;36m0x15d7b1bb0\u001b[0m\u001b[1m>\u001b[0m\n"
      ]
     },
     "metadata": {},
     "output_type": "display_data"
    },
    {
     "data": {
      "text/html": [
       "<pre style=\"white-space:pre;overflow-x:auto;line-height:normal;font-family:Menlo,'DejaVu Sans Mono',consolas,'Courier New',monospace\"><span style=\"font-weight: bold\">[</span>\n",
       "    <span style=\"font-weight: bold\">&lt;</span><span style=\"color: #ff00ff; text-decoration-color: #ff00ff; font-weight: bold\">ast.FunctionDef</span><span style=\"color: #000000; text-decoration-color: #000000\"> object at </span><span style=\"color: #008080; text-decoration-color: #008080; font-weight: bold\">0x1479489a0</span><span style=\"color: #000000; text-decoration-color: #000000\">&gt;,</span>\n",
       "<span style=\"color: #000000; text-decoration-color: #000000\">    &lt;ast.FunctionDef object at </span><span style=\"color: #008080; text-decoration-color: #008080; font-weight: bold\">0x15a67c340</span><span style=\"color: #000000; text-decoration-color: #000000\">&gt;,</span>\n",
       "<span style=\"color: #000000; text-decoration-color: #000000\">    &lt;ast.FunctionDef object at </span><span style=\"color: #008080; text-decoration-color: #008080; font-weight: bold\">0x15fb40730</span><span style=\"color: #000000; text-decoration-color: #000000\">&gt;,</span>\n",
       "<span style=\"color: #000000; text-decoration-color: #000000\">    &lt;ast.FunctionDef object at </span><span style=\"color: #008080; text-decoration-color: #008080; font-weight: bold\">0x15d7b1e50</span><span style=\"font-weight: bold\">&gt;</span>\n",
       "<span style=\"font-weight: bold\">]</span>\n",
       "</pre>\n"
      ],
      "text/plain": [
       "\u001b[1m[\u001b[0m\n",
       "    \u001b[1m<\u001b[0m\u001b[1;95mast.FunctionDef\u001b[0m\u001b[39m object at \u001b[0m\u001b[1;36m0x1479489a0\u001b[0m\u001b[39m>,\u001b[0m\n",
       "\u001b[39m    <ast.FunctionDef object at \u001b[0m\u001b[1;36m0x15a67c340\u001b[0m\u001b[39m>,\u001b[0m\n",
       "\u001b[39m    <ast.FunctionDef object at \u001b[0m\u001b[1;36m0x15fb40730\u001b[0m\u001b[39m>,\u001b[0m\n",
       "\u001b[39m    <ast.FunctionDef object at \u001b[0m\u001b[1;36m0x15d7b1e50\u001b[0m\u001b[1m>\u001b[0m\n",
       "\u001b[1m]\u001b[0m\n"
      ]
     },
     "metadata": {},
     "output_type": "display_data"
    }
   ],
   "source": [
    "nodes = []\n",
    "for func, module in zip(funcs, pymods):\n",
    "    func = module.get_attribute(func.__name__).get_object()\n",
    "    print(func)\n",
    "    nodes.append(func.ast_node)\n",
    "\n",
    "print(nodes)"
   ]
  },
  {
   "cell_type": "code",
   "execution_count": 14,
   "id": "b09bb0c7-af5a-411b-bc6b-e4dc5eef16c5",
   "metadata": {},
   "outputs": [],
   "source": [
    "def hash_string(s):\n",
    "    return hashlib.sha256(s).hexdigest()"
   ]
  },
  {
   "cell_type": "code",
   "execution_count": 15,
   "id": "e0b4bc69-b2b5-4773-926d-6cad12542d4a",
   "metadata": {},
   "outputs": [],
   "source": [
    "def get_name(n):\n",
    "    if isinstance(n, ast.Name):\n",
    "        return n.id\n",
    "    elif isinstance(n, ast.Attribute):\n",
    "        return get_name(n.value) + \".\" + n.attr\n",
    "    elif isinstance(n, ast.Call):\n",
    "        return \"call\"\n",
    "    else:\n",
    "        return \"?\""
   ]
  },
  {
   "cell_type": "code",
   "execution_count": 16,
   "id": "a66d366b-c755-40c5-972e-a9d1a31853c4",
   "metadata": {},
   "outputs": [],
   "source": [
    "def _get_text_range(node: ast.expr, tokens):\n",
    "    \"\"\"Get string offset from ast Node\n",
    "    This is a workaround since `asttoken.get_text_range` needs to be an \"EnhancedAST\" node...\n",
    "\n",
    "    Args:\n",
    "        node: ast Node\n",
    "        tokens: asttoken tokens\n",
    "\n",
    "    Returns:\n",
    "        Offset tuple. Returns 0,0 if not found\n",
    "    \"\"\"\n",
    "    start = end = None\n",
    "    for token in tokens:\n",
    "        if token.start == (node.lineno, node.col_offset):\n",
    "            start = token.startpos\n",
    "        if token.end == (node.end_lineno, node.end_col_offset):\n",
    "            end = token.endpos\n",
    "    if start is not None and end is not None:\n",
    "        return start, end\n",
    "\n",
    "    return 0, 0"
   ]
  },
  {
   "cell_type": "code",
   "execution_count": 39,
   "id": "8fa6705d-8253-4ead-b976-84c3281e731f",
   "metadata": {},
   "outputs": [],
   "source": [
    "class ReplaceCall(NodeTransformer):\n",
    "    def __init__(self, project, module, metadata):\n",
    "        self.hash_repr = None\n",
    "        self.metadata = metadata\n",
    "        self.project = project\n",
    "        self.module = module\n",
    "    \n",
    "    def visit_Call(self, node: ast.Call):\n",
    "        # prepend `h` to ensure the syntax is valid\n",
    "        print(node, get_name(node.func))\n",
    "\n",
    "        offset = _get_text_range(node.func, self.metadata[\"tokens\"].tokens)\n",
    "        name = self.metadata[\"src\"][offset[0]:offset[1]]\n",
    "        \n",
    "        definition = find_definition(self.project, self.metadata[\"src\"], offset[0])\n",
    "        if definition is None:\n",
    "            print(f\"{name} not found\")\n",
    "        else:\n",
    "            if isinstance(definition, Location) and definition.resource is None:\n",
    "                fname = metadata[\"src\"][definition.region[0]:definition.region[1]]\n",
    "\n",
    "                print('definition name location', definition.region, fname)\n",
    "\n",
    "                func = self.module.get_attribute(fname).get_object()\n",
    "                # TODO: hash again!\n",
    "                print(func)\n",
    "            else:\n",
    "                src = Path(definition.resource.path).read_text()\n",
    "                fname = src[definition.region[0]:definition.region[1]]\n",
    "                print('definition name location', definition.region, fname)\n",
    "                module = self.project.get_pymodule(definition.resource)\n",
    "                func = module.get_attribute(fname).get_object()\n",
    "                # TODO: hash again!\n",
    "                print(func)\n",
    "            # src = Path(definition.resource.path).read_text()\n",
    "            # print(definition.region, src[definition.region[0]:definition.region[1]])\n",
    "            # self.hash_repr = \"h\" + hash_string(ast.unparse(node).encode())\n",
    "        super().generic_visit(node)\n",
    "        return node\n",
    "\n",
    "    def visit_Name(self, node: ast.Name):\n",
    "        # if self.hash_repr is not None:\n",
    "        # node.id = self.hash_repr\n",
    "        # self.hash_repr = None\n",
    "        return node\n"
   ]
  },
  {
   "cell_type": "code",
   "execution_count": 41,
   "id": "c8f78cb6-5894-409f-97fd-72afcd0855b3",
   "metadata": {},
   "outputs": [
    {
     "data": {
      "text/html": [
       "<pre style=\"white-space:pre;overflow-x:auto;line-height:normal;font-family:Menlo,'DejaVu Sans Mono',consolas,'Courier New',monospace\">calls in\n",
       "</pre>\n"
      ],
      "text/plain": [
       "calls in\n"
      ]
     },
     "metadata": {},
     "output_type": "display_data"
    },
    {
     "data": {
      "text/html": [
       "<pre style=\"white-space:pre;overflow-x:auto;line-height:normal;font-family:Menlo,'DejaVu Sans Mono',consolas,'Courier New',monospace\">def <span style=\"color: #800080; text-decoration-color: #800080; font-weight: bold\">add_bernoulli_samples</span><span style=\"font-weight: bold\">()</span>:\n",
       "    df = <span style=\"color: #800080; text-decoration-color: #800080; font-weight: bold\">combine_random_samples</span><span style=\"font-weight: bold\">()</span><span style=\"color: #800080; text-decoration-color: #800080; font-weight: bold\">.copy</span><span style=\"font-weight: bold\">()</span>\n",
       "    df<span style=\"font-weight: bold\">[</span><span style=\"color: #008000; text-decoration-color: #008000\">'bernoulli'</span><span style=\"font-weight: bold\">]</span> = <span style=\"color: #800080; text-decoration-color: #800080; font-weight: bold\">draw_bernoulli_samples</span><span style=\"font-weight: bold\">()</span>\n",
       "    return df\n",
       "</pre>\n"
      ],
      "text/plain": [
       "def \u001b[1;35madd_bernoulli_samples\u001b[0m\u001b[1m(\u001b[0m\u001b[1m)\u001b[0m:\n",
       "    df = \u001b[1;35mcombine_random_samples\u001b[0m\u001b[1m(\u001b[0m\u001b[1m)\u001b[0m\u001b[1;35m.copy\u001b[0m\u001b[1m(\u001b[0m\u001b[1m)\u001b[0m\n",
       "    df\u001b[1m[\u001b[0m\u001b[32m'bernoulli'\u001b[0m\u001b[1m]\u001b[0m = \u001b[1;35mdraw_bernoulli_samples\u001b[0m\u001b[1m(\u001b[0m\u001b[1m)\u001b[0m\n",
       "    return df\n"
      ]
     },
     "metadata": {},
     "output_type": "display_data"
    },
    {
     "data": {
      "text/html": [
       "<pre style=\"white-space:pre;overflow-x:auto;line-height:normal;font-family:Menlo,'DejaVu Sans Mono',consolas,'Courier New',monospace\"><span style=\"font-weight: bold\">&lt;</span><span style=\"color: #ff00ff; text-decoration-color: #ff00ff; font-weight: bold\">ast.Call</span><span style=\"color: #000000; text-decoration-color: #000000\"> object at </span><span style=\"color: #008080; text-decoration-color: #008080; font-weight: bold\">0x147948ac0</span><span style=\"font-weight: bold\">&gt;</span> call.copy\n",
       "</pre>\n"
      ],
      "text/plain": [
       "\u001b[1m<\u001b[0m\u001b[1;95mast.Call\u001b[0m\u001b[39m object at \u001b[0m\u001b[1;36m0x147948ac0\u001b[0m\u001b[1m>\u001b[0m call.copy\n"
      ]
     },
     "metadata": {},
     "output_type": "display_data"
    },
    {
     "data": {
      "text/html": [
       "<pre style=\"white-space:pre;overflow-x:auto;line-height:normal;font-family:Menlo,'DejaVu Sans Mono',consolas,'Courier New',monospace\">definition name location\n",
       "<span style=\"font-weight: bold\">(</span><span style=\"color: #008080; text-decoration-color: #008080; font-weight: bold\">299</span>, <span style=\"color: #008080; text-decoration-color: #008080; font-weight: bold\">321</span><span style=\"font-weight: bold\">)</span>\n",
       "combine_random_samples\n",
       "</pre>\n"
      ],
      "text/plain": [
       "definition name location\n",
       "\u001b[1m(\u001b[0m\u001b[1;36m299\u001b[0m, \u001b[1;36m321\u001b[0m\u001b[1m)\u001b[0m\n",
       "combine_random_samples\n"
      ]
     },
     "metadata": {},
     "output_type": "display_data"
    },
    {
     "data": {
      "text/html": [
       "<pre style=\"white-space:pre;overflow-x:auto;line-height:normal;font-family:Menlo,'DejaVu Sans Mono',consolas,'Courier New',monospace\"><span style=\"font-weight: bold\">&lt;</span><span style=\"color: #ff00ff; text-decoration-color: #ff00ff; font-weight: bold\">rope.base.pyobjectsdef.PyFunction</span><span style=\"color: #000000; text-decoration-color: #000000\"> </span><span style=\"color: #008000; text-decoration-color: #008000\">\"tliba.etl::combine_random_samples\"</span><span style=\"color: #000000; text-decoration-color: #000000\"> at </span><span style=\"color: #008080; text-decoration-color: #008080; font-weight: bold\">0x147f6ee50</span><span style=\"font-weight: bold\">&gt;</span>\n",
       "</pre>\n"
      ],
      "text/plain": [
       "\u001b[1m<\u001b[0m\u001b[1;95mrope.base.pyobjectsdef.PyFunction\u001b[0m\u001b[39m \u001b[0m\u001b[32m\"tliba.etl::combine_random_samples\"\u001b[0m\u001b[39m at \u001b[0m\u001b[1;36m0x147f6ee50\u001b[0m\u001b[1m>\u001b[0m\n"
      ]
     },
     "metadata": {},
     "output_type": "display_data"
    },
    {
     "data": {
      "text/html": [
       "<pre style=\"white-space:pre;overflow-x:auto;line-height:normal;font-family:Menlo,'DejaVu Sans Mono',consolas,'Courier New',monospace\"><span style=\"font-weight: bold\">&lt;</span><span style=\"color: #ff00ff; text-decoration-color: #ff00ff; font-weight: bold\">ast.Call</span><span style=\"color: #000000; text-decoration-color: #000000\"> object at </span><span style=\"color: #008080; text-decoration-color: #008080; font-weight: bold\">0x147948b20</span><span style=\"font-weight: bold\">&gt;</span> combine_random_samples\n",
       "</pre>\n"
      ],
      "text/plain": [
       "\u001b[1m<\u001b[0m\u001b[1;95mast.Call\u001b[0m\u001b[39m object at \u001b[0m\u001b[1;36m0x147948b20\u001b[0m\u001b[1m>\u001b[0m combine_random_samples\n"
      ]
     },
     "metadata": {},
     "output_type": "display_data"
    },
    {
     "data": {
      "text/html": [
       "<pre style=\"white-space:pre;overflow-x:auto;line-height:normal;font-family:Menlo,'DejaVu Sans Mono',consolas,'Courier New',monospace\">definition name location\n",
       "<span style=\"font-weight: bold\">(</span><span style=\"color: #008080; text-decoration-color: #008080; font-weight: bold\">299</span>, <span style=\"color: #008080; text-decoration-color: #008080; font-weight: bold\">321</span><span style=\"font-weight: bold\">)</span>\n",
       "combine_random_samples\n",
       "</pre>\n"
      ],
      "text/plain": [
       "definition name location\n",
       "\u001b[1m(\u001b[0m\u001b[1;36m299\u001b[0m, \u001b[1;36m321\u001b[0m\u001b[1m)\u001b[0m\n",
       "combine_random_samples\n"
      ]
     },
     "metadata": {},
     "output_type": "display_data"
    },
    {
     "data": {
      "text/html": [
       "<pre style=\"white-space:pre;overflow-x:auto;line-height:normal;font-family:Menlo,'DejaVu Sans Mono',consolas,'Courier New',monospace\"><span style=\"font-weight: bold\">&lt;</span><span style=\"color: #ff00ff; text-decoration-color: #ff00ff; font-weight: bold\">rope.base.pyobjectsdef.PyFunction</span><span style=\"color: #000000; text-decoration-color: #000000\"> </span><span style=\"color: #008000; text-decoration-color: #008000\">\"tliba.etl::combine_random_samples\"</span><span style=\"color: #000000; text-decoration-color: #000000\"> at </span><span style=\"color: #008080; text-decoration-color: #008080; font-weight: bold\">0x147f6ee50</span><span style=\"font-weight: bold\">&gt;</span>\n",
       "</pre>\n"
      ],
      "text/plain": [
       "\u001b[1m<\u001b[0m\u001b[1;95mrope.base.pyobjectsdef.PyFunction\u001b[0m\u001b[39m \u001b[0m\u001b[32m\"tliba.etl::combine_random_samples\"\u001b[0m\u001b[39m at \u001b[0m\u001b[1;36m0x147f6ee50\u001b[0m\u001b[1m>\u001b[0m\n"
      ]
     },
     "metadata": {},
     "output_type": "display_data"
    },
    {
     "data": {
      "text/html": [
       "<pre style=\"white-space:pre;overflow-x:auto;line-height:normal;font-family:Menlo,'DejaVu Sans Mono',consolas,'Courier New',monospace\"><span style=\"font-weight: bold\">&lt;</span><span style=\"color: #ff00ff; text-decoration-color: #ff00ff; font-weight: bold\">ast.Call</span><span style=\"color: #000000; text-decoration-color: #000000\"> object at </span><span style=\"color: #008080; text-decoration-color: #008080; font-weight: bold\">0x147948ca0</span><span style=\"font-weight: bold\">&gt;</span> draw_bernoulli_samples\n",
       "</pre>\n"
      ],
      "text/plain": [
       "\u001b[1m<\u001b[0m\u001b[1;95mast.Call\u001b[0m\u001b[39m object at \u001b[0m\u001b[1;36m0x147948ca0\u001b[0m\u001b[1m>\u001b[0m draw_bernoulli_samples\n"
      ]
     },
     "metadata": {},
     "output_type": "display_data"
    },
    {
     "data": {
      "text/html": [
       "<pre style=\"white-space:pre;overflow-x:auto;line-height:normal;font-family:Menlo,'DejaVu Sans Mono',consolas,'Courier New',monospace\">definition name location\n",
       "<span style=\"font-weight: bold\">(</span><span style=\"color: #008080; text-decoration-color: #008080; font-weight: bold\">410</span>, <span style=\"color: #008080; text-decoration-color: #008080; font-weight: bold\">432</span><span style=\"font-weight: bold\">)</span>\n",
       "draw_bernoulli_samples\n",
       "</pre>\n"
      ],
      "text/plain": [
       "definition name location\n",
       "\u001b[1m(\u001b[0m\u001b[1;36m410\u001b[0m, \u001b[1;36m432\u001b[0m\u001b[1m)\u001b[0m\n",
       "draw_bernoulli_samples\n"
      ]
     },
     "metadata": {},
     "output_type": "display_data"
    },
    {
     "data": {
      "text/html": [
       "<pre style=\"white-space:pre;overflow-x:auto;line-height:normal;font-family:Menlo,'DejaVu Sans Mono',consolas,'Courier New',monospace\"><span style=\"font-weight: bold\">&lt;</span><span style=\"color: #ff00ff; text-decoration-color: #ff00ff; font-weight: bold\">rope.base.pyobjectsdef.PyFunction</span><span style=\"color: #000000; text-decoration-color: #000000\"> </span><span style=\"color: #008000; text-decoration-color: #008000\">\"tliba.random.rng::draw_bernoulli_samples\"</span><span style=\"color: #000000; text-decoration-color: #000000\"> at </span><span style=\"color: #008080; text-decoration-color: #008080; font-weight: bold\">0x116d74df0</span><span style=\"font-weight: bold\">&gt;</span>\n",
       "</pre>\n"
      ],
      "text/plain": [
       "\u001b[1m<\u001b[0m\u001b[1;95mrope.base.pyobjectsdef.PyFunction\u001b[0m\u001b[39m \u001b[0m\u001b[32m\"tliba.random.rng::draw_bernoulli_samples\"\u001b[0m\u001b[39m at \u001b[0m\u001b[1;36m0x116d74df0\u001b[0m\u001b[1m>\u001b[0m\n"
      ]
     },
     "metadata": {},
     "output_type": "display_data"
    },
    {
     "data": {
      "text/html": [
       "<pre style=\"white-space:pre;overflow-x:auto;line-height:normal;font-family:Menlo,'DejaVu Sans Mono',consolas,'Courier New',monospace\">--------------------------------------------------------------------------------\n",
       "</pre>\n"
      ],
      "text/plain": [
       "--------------------------------------------------------------------------------\n"
      ]
     },
     "metadata": {},
     "output_type": "display_data"
    },
    {
     "data": {
      "text/html": [
       "<pre style=\"white-space:pre;overflow-x:auto;line-height:normal;font-family:Menlo,'DejaVu Sans Mono',consolas,'Courier New',monospace\">calls in\n",
       "</pre>\n"
      ],
      "text/plain": [
       "calls in\n"
      ]
     },
     "metadata": {},
     "output_type": "display_data"
    },
    {
     "data": {
      "text/html": [
       "<pre style=\"white-space:pre;overflow-x:auto;line-height:normal;font-family:Menlo,'DejaVu Sans Mono',consolas,'Courier New',monospace\">def <span style=\"color: #800080; text-decoration-color: #800080; font-weight: bold\">combine_random_samples</span><span style=\"font-weight: bold\">()</span>:\n",
       "    return <span style=\"color: #800080; text-decoration-color: #800080; font-weight: bold\">pd.concat</span><span style=\"font-weight: bold\">((</span><span style=\"color: #800080; text-decoration-color: #800080; font-weight: bold\">rng.draw_beta_samples</span><span style=\"font-weight: bold\">()</span>, <span style=\"color: #800080; text-decoration-color: #800080; font-weight: bold\">normal_samples</span><span style=\"font-weight: bold\">()</span>, <span style=\"color: #800080; text-decoration-color: #800080; font-weight: bold\">draw_normal_samples</span><span style=\"font-weight: bold\">())</span>, <span style=\"color: #808000; text-decoration-color: #808000\">axis</span>=<span style=\"color: #008080; text-decoration-color: #008080; font-weight: bold\">1</span><span style=\"font-weight: bold\">)</span>\n",
       "</pre>\n"
      ],
      "text/plain": [
       "def \u001b[1;35mcombine_random_samples\u001b[0m\u001b[1m(\u001b[0m\u001b[1m)\u001b[0m:\n",
       "    return \u001b[1;35mpd.concat\u001b[0m\u001b[1m(\u001b[0m\u001b[1m(\u001b[0m\u001b[1;35mrng.draw_beta_samples\u001b[0m\u001b[1m(\u001b[0m\u001b[1m)\u001b[0m, \u001b[1;35mnormal_samples\u001b[0m\u001b[1m(\u001b[0m\u001b[1m)\u001b[0m, \u001b[1;35mdraw_normal_samples\u001b[0m\u001b[1m(\u001b[0m\u001b[1m)\u001b[0m\u001b[1m)\u001b[0m, \u001b[33maxis\u001b[0m=\u001b[1;36m1\u001b[0m\u001b[1m)\u001b[0m\n"
      ]
     },
     "metadata": {},
     "output_type": "display_data"
    },
    {
     "data": {
      "text/html": [
       "<pre style=\"white-space:pre;overflow-x:auto;line-height:normal;font-family:Menlo,'DejaVu Sans Mono',consolas,'Courier New',monospace\"><span style=\"font-weight: bold\">&lt;</span><span style=\"color: #ff00ff; text-decoration-color: #ff00ff; font-weight: bold\">ast.Call</span><span style=\"color: #000000; text-decoration-color: #000000\"> object at </span><span style=\"color: #008080; text-decoration-color: #008080; font-weight: bold\">0x15a67c370</span><span style=\"font-weight: bold\">&gt;</span> pd.concat\n",
       "</pre>\n"
      ],
      "text/plain": [
       "\u001b[1m<\u001b[0m\u001b[1;95mast.Call\u001b[0m\u001b[39m object at \u001b[0m\u001b[1;36m0x15a67c370\u001b[0m\u001b[1m>\u001b[0m pd.concat\n"
      ]
     },
     "metadata": {},
     "output_type": "display_data"
    },
    {
     "data": {
      "text/html": [
       "<pre style=\"white-space:pre;overflow-x:auto;line-height:normal;font-family:Menlo,'DejaVu Sans Mono',consolas,'Courier New',monospace\">pd.concat not found\n",
       "</pre>\n"
      ],
      "text/plain": [
       "pd.concat not found\n"
      ]
     },
     "metadata": {},
     "output_type": "display_data"
    },
    {
     "data": {
      "text/html": [
       "<pre style=\"white-space:pre;overflow-x:auto;line-height:normal;font-family:Menlo,'DejaVu Sans Mono',consolas,'Courier New',monospace\"><span style=\"font-weight: bold\">&lt;</span><span style=\"color: #ff00ff; text-decoration-color: #ff00ff; font-weight: bold\">ast.Call</span><span style=\"color: #000000; text-decoration-color: #000000\"> object at </span><span style=\"color: #008080; text-decoration-color: #008080; font-weight: bold\">0x15a67c490</span><span style=\"font-weight: bold\">&gt;</span> rng.draw_beta_samples\n",
       "</pre>\n"
      ],
      "text/plain": [
       "\u001b[1m<\u001b[0m\u001b[1;95mast.Call\u001b[0m\u001b[39m object at \u001b[0m\u001b[1;36m0x15a67c490\u001b[0m\u001b[1m>\u001b[0m rng.draw_beta_samples\n"
      ]
     },
     "metadata": {},
     "output_type": "display_data"
    },
    {
     "data": {
      "text/html": [
       "<pre style=\"white-space:pre;overflow-x:auto;line-height:normal;font-family:Menlo,'DejaVu Sans Mono',consolas,'Courier New',monospace\">rng.draw_beta_samples not found\n",
       "</pre>\n"
      ],
      "text/plain": [
       "rng.draw_beta_samples not found\n"
      ]
     },
     "metadata": {},
     "output_type": "display_data"
    },
    {
     "data": {
      "text/html": [
       "<pre style=\"white-space:pre;overflow-x:auto;line-height:normal;font-family:Menlo,'DejaVu Sans Mono',consolas,'Courier New',monospace\"><span style=\"font-weight: bold\">&lt;</span><span style=\"color: #ff00ff; text-decoration-color: #ff00ff; font-weight: bold\">ast.Call</span><span style=\"color: #000000; text-decoration-color: #000000\"> object at </span><span style=\"color: #008080; text-decoration-color: #008080; font-weight: bold\">0x15a694b80</span><span style=\"font-weight: bold\">&gt;</span> normal_samples\n",
       "</pre>\n"
      ],
      "text/plain": [
       "\u001b[1m<\u001b[0m\u001b[1;95mast.Call\u001b[0m\u001b[39m object at \u001b[0m\u001b[1;36m0x15a694b80\u001b[0m\u001b[1m>\u001b[0m normal_samples\n"
      ]
     },
     "metadata": {},
     "output_type": "display_data"
    },
    {
     "data": {
      "text/html": [
       "<pre style=\"white-space:pre;overflow-x:auto;line-height:normal;font-family:Menlo,'DejaVu Sans Mono',consolas,'Courier New',monospace\">normal_samples not found\n",
       "</pre>\n"
      ],
      "text/plain": [
       "normal_samples not found\n"
      ]
     },
     "metadata": {},
     "output_type": "display_data"
    },
    {
     "data": {
      "text/html": [
       "<pre style=\"white-space:pre;overflow-x:auto;line-height:normal;font-family:Menlo,'DejaVu Sans Mono',consolas,'Courier New',monospace\"><span style=\"font-weight: bold\">&lt;</span><span style=\"color: #ff00ff; text-decoration-color: #ff00ff; font-weight: bold\">ast.Call</span><span style=\"color: #000000; text-decoration-color: #000000\"> object at </span><span style=\"color: #008080; text-decoration-color: #008080; font-weight: bold\">0x15a9d31c0</span><span style=\"font-weight: bold\">&gt;</span> draw_normal_samples\n",
       "</pre>\n"
      ],
      "text/plain": [
       "\u001b[1m<\u001b[0m\u001b[1;95mast.Call\u001b[0m\u001b[39m object at \u001b[0m\u001b[1;36m0x15a9d31c0\u001b[0m\u001b[1m>\u001b[0m draw_normal_samples\n"
      ]
     },
     "metadata": {},
     "output_type": "display_data"
    },
    {
     "data": {
      "text/html": [
       "<pre style=\"white-space:pre;overflow-x:auto;line-height:normal;font-family:Menlo,'DejaVu Sans Mono',consolas,'Courier New',monospace\">definition name location\n",
       "<span style=\"font-weight: bold\">(</span><span style=\"color: #008080; text-decoration-color: #008080; font-weight: bold\">222</span>, <span style=\"color: #008080; text-decoration-color: #008080; font-weight: bold\">241</span><span style=\"font-weight: bold\">)</span>\n",
       "draw_normal_samples\n",
       "</pre>\n"
      ],
      "text/plain": [
       "definition name location\n",
       "\u001b[1m(\u001b[0m\u001b[1;36m222\u001b[0m, \u001b[1;36m241\u001b[0m\u001b[1m)\u001b[0m\n",
       "draw_normal_samples\n"
      ]
     },
     "metadata": {},
     "output_type": "display_data"
    },
    {
     "data": {
      "text/html": [
       "<pre style=\"white-space:pre;overflow-x:auto;line-height:normal;font-family:Menlo,'DejaVu Sans Mono',consolas,'Courier New',monospace\"><span style=\"font-weight: bold\">&lt;</span><span style=\"color: #ff00ff; text-decoration-color: #ff00ff; font-weight: bold\">rope.base.pyobjectsdef.PyFunction</span><span style=\"color: #000000; text-decoration-color: #000000\"> </span><span style=\"color: #008000; text-decoration-color: #008000\">\"tliba.random.rng::draw_normal_samples\"</span><span style=\"color: #000000; text-decoration-color: #000000\"> at </span><span style=\"color: #008080; text-decoration-color: #008080; font-weight: bold\">0x1583c4b50</span><span style=\"font-weight: bold\">&gt;</span>\n",
       "</pre>\n"
      ],
      "text/plain": [
       "\u001b[1m<\u001b[0m\u001b[1;95mrope.base.pyobjectsdef.PyFunction\u001b[0m\u001b[39m \u001b[0m\u001b[32m\"tliba.random.rng::draw_normal_samples\"\u001b[0m\u001b[39m at \u001b[0m\u001b[1;36m0x1583c4b50\u001b[0m\u001b[1m>\u001b[0m\n"
      ]
     },
     "metadata": {},
     "output_type": "display_data"
    },
    {
     "data": {
      "text/html": [
       "<pre style=\"white-space:pre;overflow-x:auto;line-height:normal;font-family:Menlo,'DejaVu Sans Mono',consolas,'Courier New',monospace\">--------------------------------------------------------------------------------\n",
       "</pre>\n"
      ],
      "text/plain": [
       "--------------------------------------------------------------------------------\n"
      ]
     },
     "metadata": {},
     "output_type": "display_data"
    },
    {
     "data": {
      "text/html": [
       "<pre style=\"white-space:pre;overflow-x:auto;line-height:normal;font-family:Menlo,'DejaVu Sans Mono',consolas,'Courier New',monospace\">calls in\n",
       "</pre>\n"
      ],
      "text/plain": [
       "calls in\n"
      ]
     },
     "metadata": {},
     "output_type": "display_data"
    },
    {
     "data": {
      "text/html": [
       "<pre style=\"white-space:pre;overflow-x:auto;line-height:normal;font-family:Menlo,'DejaVu Sans Mono',consolas,'Courier New',monospace\">def <span style=\"color: #800080; text-decoration-color: #800080; font-weight: bold\">compute_moments</span><span style=\"font-weight: bold\">()</span>:\n",
       "    return <span style=\"color: #800080; text-decoration-color: #800080; font-weight: bold\">combine_random_samples</span><span style=\"font-weight: bold\">()</span><span style=\"color: #800080; text-decoration-color: #800080; font-weight: bold\">.aggregate</span><span style=\"font-weight: bold\">()</span>\n",
       "</pre>\n"
      ],
      "text/plain": [
       "def \u001b[1;35mcompute_moments\u001b[0m\u001b[1m(\u001b[0m\u001b[1m)\u001b[0m:\n",
       "    return \u001b[1;35mcombine_random_samples\u001b[0m\u001b[1m(\u001b[0m\u001b[1m)\u001b[0m\u001b[1;35m.aggregate\u001b[0m\u001b[1m(\u001b[0m\u001b[1m)\u001b[0m\n"
      ]
     },
     "metadata": {},
     "output_type": "display_data"
    },
    {
     "data": {
      "text/html": [
       "<pre style=\"white-space:pre;overflow-x:auto;line-height:normal;font-family:Menlo,'DejaVu Sans Mono',consolas,'Courier New',monospace\"><span style=\"font-weight: bold\">&lt;</span><span style=\"color: #ff00ff; text-decoration-color: #ff00ff; font-weight: bold\">ast.Call</span><span style=\"color: #000000; text-decoration-color: #000000\"> object at </span><span style=\"color: #008080; text-decoration-color: #008080; font-weight: bold\">0x15fb40430</span><span style=\"font-weight: bold\">&gt;</span> call.aggregate\n",
       "</pre>\n"
      ],
      "text/plain": [
       "\u001b[1m<\u001b[0m\u001b[1;95mast.Call\u001b[0m\u001b[39m object at \u001b[0m\u001b[1;36m0x15fb40430\u001b[0m\u001b[1m>\u001b[0m call.aggregate\n"
      ]
     },
     "metadata": {},
     "output_type": "display_data"
    },
    {
     "data": {
      "text/html": [
       "<pre style=\"white-space:pre;overflow-x:auto;line-height:normal;font-family:Menlo,'DejaVu Sans Mono',consolas,'Courier New',monospace\">definition name location\n",
       "<span style=\"font-weight: bold\">(</span><span style=\"color: #008080; text-decoration-color: #008080; font-weight: bold\">299</span>, <span style=\"color: #008080; text-decoration-color: #008080; font-weight: bold\">321</span><span style=\"font-weight: bold\">)</span>\n",
       "combine_random_samples\n",
       "</pre>\n"
      ],
      "text/plain": [
       "definition name location\n",
       "\u001b[1m(\u001b[0m\u001b[1;36m299\u001b[0m, \u001b[1;36m321\u001b[0m\u001b[1m)\u001b[0m\n",
       "combine_random_samples\n"
      ]
     },
     "metadata": {},
     "output_type": "display_data"
    },
    {
     "data": {
      "text/html": [
       "<pre style=\"white-space:pre;overflow-x:auto;line-height:normal;font-family:Menlo,'DejaVu Sans Mono',consolas,'Courier New',monospace\"><span style=\"font-weight: bold\">&lt;</span><span style=\"color: #ff00ff; text-decoration-color: #ff00ff; font-weight: bold\">rope.base.pyobjectsdef.PyFunction</span><span style=\"color: #000000; text-decoration-color: #000000\"> </span><span style=\"color: #008000; text-decoration-color: #008000\">\"tliba.etl::combine_random_samples\"</span><span style=\"color: #000000; text-decoration-color: #000000\"> at </span><span style=\"color: #008080; text-decoration-color: #008080; font-weight: bold\">0x15d35db50</span><span style=\"font-weight: bold\">&gt;</span>\n",
       "</pre>\n"
      ],
      "text/plain": [
       "\u001b[1m<\u001b[0m\u001b[1;95mrope.base.pyobjectsdef.PyFunction\u001b[0m\u001b[39m \u001b[0m\u001b[32m\"tliba.etl::combine_random_samples\"\u001b[0m\u001b[39m at \u001b[0m\u001b[1;36m0x15d35db50\u001b[0m\u001b[1m>\u001b[0m\n"
      ]
     },
     "metadata": {},
     "output_type": "display_data"
    },
    {
     "data": {
      "text/html": [
       "<pre style=\"white-space:pre;overflow-x:auto;line-height:normal;font-family:Menlo,'DejaVu Sans Mono',consolas,'Courier New',monospace\"><span style=\"font-weight: bold\">&lt;</span><span style=\"color: #ff00ff; text-decoration-color: #ff00ff; font-weight: bold\">ast.Call</span><span style=\"color: #000000; text-decoration-color: #000000\"> object at </span><span style=\"color: #008080; text-decoration-color: #008080; font-weight: bold\">0x15fb402b0</span><span style=\"font-weight: bold\">&gt;</span> combine_random_samples\n",
       "</pre>\n"
      ],
      "text/plain": [
       "\u001b[1m<\u001b[0m\u001b[1;95mast.Call\u001b[0m\u001b[39m object at \u001b[0m\u001b[1;36m0x15fb402b0\u001b[0m\u001b[1m>\u001b[0m combine_random_samples\n"
      ]
     },
     "metadata": {},
     "output_type": "display_data"
    },
    {
     "data": {
      "text/html": [
       "<pre style=\"white-space:pre;overflow-x:auto;line-height:normal;font-family:Menlo,'DejaVu Sans Mono',consolas,'Courier New',monospace\">definition name location\n",
       "<span style=\"font-weight: bold\">(</span><span style=\"color: #008080; text-decoration-color: #008080; font-weight: bold\">299</span>, <span style=\"color: #008080; text-decoration-color: #008080; font-weight: bold\">321</span><span style=\"font-weight: bold\">)</span>\n",
       "combine_random_samples\n",
       "</pre>\n"
      ],
      "text/plain": [
       "definition name location\n",
       "\u001b[1m(\u001b[0m\u001b[1;36m299\u001b[0m, \u001b[1;36m321\u001b[0m\u001b[1m)\u001b[0m\n",
       "combine_random_samples\n"
      ]
     },
     "metadata": {},
     "output_type": "display_data"
    },
    {
     "data": {
      "text/html": [
       "<pre style=\"white-space:pre;overflow-x:auto;line-height:normal;font-family:Menlo,'DejaVu Sans Mono',consolas,'Courier New',monospace\"><span style=\"font-weight: bold\">&lt;</span><span style=\"color: #ff00ff; text-decoration-color: #ff00ff; font-weight: bold\">rope.base.pyobjectsdef.PyFunction</span><span style=\"color: #000000; text-decoration-color: #000000\"> </span><span style=\"color: #008000; text-decoration-color: #008000\">\"tliba.etl::combine_random_samples\"</span><span style=\"color: #000000; text-decoration-color: #000000\"> at </span><span style=\"color: #008080; text-decoration-color: #008080; font-weight: bold\">0x15d35db50</span><span style=\"font-weight: bold\">&gt;</span>\n",
       "</pre>\n"
      ],
      "text/plain": [
       "\u001b[1m<\u001b[0m\u001b[1;95mrope.base.pyobjectsdef.PyFunction\u001b[0m\u001b[39m \u001b[0m\u001b[32m\"tliba.etl::combine_random_samples\"\u001b[0m\u001b[39m at \u001b[0m\u001b[1;36m0x15d35db50\u001b[0m\u001b[1m>\u001b[0m\n"
      ]
     },
     "metadata": {},
     "output_type": "display_data"
    },
    {
     "data": {
      "text/html": [
       "<pre style=\"white-space:pre;overflow-x:auto;line-height:normal;font-family:Menlo,'DejaVu Sans Mono',consolas,'Courier New',monospace\">--------------------------------------------------------------------------------\n",
       "</pre>\n"
      ],
      "text/plain": [
       "--------------------------------------------------------------------------------\n"
      ]
     },
     "metadata": {},
     "output_type": "display_data"
    },
    {
     "data": {
      "text/html": [
       "<pre style=\"white-space:pre;overflow-x:auto;line-height:normal;font-family:Menlo,'DejaVu Sans Mono',consolas,'Courier New',monospace\">calls in\n",
       "</pre>\n"
      ],
      "text/plain": [
       "calls in\n"
      ]
     },
     "metadata": {},
     "output_type": "display_data"
    },
    {
     "data": {
      "text/html": [
       "<pre style=\"white-space:pre;overflow-x:auto;line-height:normal;font-family:Menlo,'DejaVu Sans Mono',consolas,'Courier New',monospace\">def <span style=\"color: #800080; text-decoration-color: #800080; font-weight: bold\">draw_beta_samples</span><span style=\"font-weight: bold\">()</span>:\n",
       "    <span style=\"color: #008000; text-decoration-color: #008000\">\"\"\"Create table consisting of 5000 draws from a Beta(2, 5) distribution.\"\"\"</span>\n",
       "    return <span style=\"color: #800080; text-decoration-color: #800080; font-weight: bold\">pd.DataFrame</span><span style=\"font-weight: bold\">(</span><span style=\"color: #800080; text-decoration-color: #800080; font-weight: bold\">np.random.beta</span><span style=\"font-weight: bold\">(</span><span style=\"color: #008080; text-decoration-color: #008080; font-weight: bold\">2</span>, <span style=\"color: #008080; text-decoration-color: #008080; font-weight: bold\">5</span>, <span style=\"color: #008080; text-decoration-color: #008080; font-weight: bold\">5000</span><span style=\"font-weight: bold\">)</span>, <span style=\"color: #808000; text-decoration-color: #808000\">columns</span>=<span style=\"font-weight: bold\">[</span><span style=\"color: #008000; text-decoration-color: #008000\">'beta'</span><span style=\"font-weight: bold\">])</span>\n",
       "</pre>\n"
      ],
      "text/plain": [
       "def \u001b[1;35mdraw_beta_samples\u001b[0m\u001b[1m(\u001b[0m\u001b[1m)\u001b[0m:\n",
       "    \u001b[32m\"\"\"Create table consisting of 5000 draws from a Beta\u001b[0m\u001b[32m(\u001b[0m\u001b[32m2, 5\u001b[0m\u001b[32m)\u001b[0m\u001b[32m distribution.\"\"\"\u001b[0m\n",
       "    return \u001b[1;35mpd.DataFrame\u001b[0m\u001b[1m(\u001b[0m\u001b[1;35mnp.random.beta\u001b[0m\u001b[1m(\u001b[0m\u001b[1;36m2\u001b[0m, \u001b[1;36m5\u001b[0m, \u001b[1;36m5000\u001b[0m\u001b[1m)\u001b[0m, \u001b[33mcolumns\u001b[0m=\u001b[1m[\u001b[0m\u001b[32m'beta'\u001b[0m\u001b[1m]\u001b[0m\u001b[1m)\u001b[0m\n"
      ]
     },
     "metadata": {},
     "output_type": "display_data"
    },
    {
     "data": {
      "text/html": [
       "<pre style=\"white-space:pre;overflow-x:auto;line-height:normal;font-family:Menlo,'DejaVu Sans Mono',consolas,'Courier New',monospace\"><span style=\"font-weight: bold\">&lt;</span><span style=\"color: #ff00ff; text-decoration-color: #ff00ff; font-weight: bold\">ast.Call</span><span style=\"color: #000000; text-decoration-color: #000000\"> object at </span><span style=\"color: #008080; text-decoration-color: #008080; font-weight: bold\">0x15d7b1b80</span><span style=\"font-weight: bold\">&gt;</span> pd.DataFrame\n",
       "</pre>\n"
      ],
      "text/plain": [
       "\u001b[1m<\u001b[0m\u001b[1;95mast.Call\u001b[0m\u001b[39m object at \u001b[0m\u001b[1;36m0x15d7b1b80\u001b[0m\u001b[1m>\u001b[0m pd.DataFrame\n"
      ]
     },
     "metadata": {},
     "output_type": "display_data"
    },
    {
     "data": {
      "text/html": [
       "<pre style=\"white-space:pre;overflow-x:auto;line-height:normal;font-family:Menlo,'DejaVu Sans Mono',consolas,'Courier New',monospace\">pd.DataFrame not found\n",
       "</pre>\n"
      ],
      "text/plain": [
       "pd.DataFrame not found\n"
      ]
     },
     "metadata": {},
     "output_type": "display_data"
    },
    {
     "data": {
      "text/html": [
       "<pre style=\"white-space:pre;overflow-x:auto;line-height:normal;font-family:Menlo,'DejaVu Sans Mono',consolas,'Courier New',monospace\"><span style=\"font-weight: bold\">&lt;</span><span style=\"color: #ff00ff; text-decoration-color: #ff00ff; font-weight: bold\">ast.Call</span><span style=\"color: #000000; text-decoration-color: #000000\"> object at </span><span style=\"color: #008080; text-decoration-color: #008080; font-weight: bold\">0x15d7b1af0</span><span style=\"font-weight: bold\">&gt;</span> np.random.beta\n",
       "</pre>\n"
      ],
      "text/plain": [
       "\u001b[1m<\u001b[0m\u001b[1;95mast.Call\u001b[0m\u001b[39m object at \u001b[0m\u001b[1;36m0x15d7b1af0\u001b[0m\u001b[1m>\u001b[0m np.random.beta\n"
      ]
     },
     "metadata": {},
     "output_type": "display_data"
    },
    {
     "data": {
      "text/html": [
       "<pre style=\"white-space:pre;overflow-x:auto;line-height:normal;font-family:Menlo,'DejaVu Sans Mono',consolas,'Courier New',monospace\">np.random.beta not found\n",
       "</pre>\n"
      ],
      "text/plain": [
       "np.random.beta not found\n"
      ]
     },
     "metadata": {},
     "output_type": "display_data"
    },
    {
     "data": {
      "text/html": [
       "<pre style=\"white-space:pre;overflow-x:auto;line-height:normal;font-family:Menlo,'DejaVu Sans Mono',consolas,'Courier New',monospace\">--------------------------------------------------------------------------------\n",
       "</pre>\n"
      ],
      "text/plain": [
       "--------------------------------------------------------------------------------\n"
      ]
     },
     "metadata": {},
     "output_type": "display_data"
    }
   ],
   "source": [
    "for node, project, metadata, module in zip(nodes, projects, mod_metadata, pymods):\n",
    "    print('calls in')\n",
    "    print(ast.unparse(node))\n",
    "\n",
    "    visitor = ReplaceCall(project, module, metadata)\n",
    "    n = visitor.visit(node)\n",
    "    print(\"-\" * 80)\n",
    "\n",
    "# note that: aliases and library imports do not work with `rope`\n",
    "# - cases such as `rng.draw_....`\n",
    "# - import `hello` as `normal_samples` ...\n",
    "\n",
    "\n",
    "# TODO: naive baseline; hash all relevant modules (preprocessed)"
   ]
  },
  {
   "cell_type": "code",
   "execution_count": null,
   "id": "56192172-b3e6-4495-a07a-eaf0f66d86c5",
   "metadata": {},
   "outputs": [],
   "source": []
  }
 ],
 "metadata": {
  "kernelspec": {
   "display_name": "Python 3 (ipykernel)",
   "language": "python",
   "name": "python3"
  },
  "language_info": {
   "codemirror_mode": {
    "name": "ipython",
    "version": 3
   },
   "file_extension": ".py",
   "mimetype": "text/x-python",
   "name": "python",
   "nbconvert_exporter": "python",
   "pygments_lexer": "ipython3",
   "version": "3.9.6"
  }
 },
 "nbformat": 4,
 "nbformat_minor": 5
}
